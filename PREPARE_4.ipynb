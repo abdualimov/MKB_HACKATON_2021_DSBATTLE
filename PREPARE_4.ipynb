{
 "cells": [
  {
   "cell_type": "code",
   "execution_count": 1,
   "id": "c61b3e5c",
   "metadata": {},
   "outputs": [],
   "source": [
    "import pandas as pd\n",
    "pd.set_option('display.max_rows', 500)\n",
    "import numpy as np\n",
    "\n",
    "import matplotlib.pyplot as plt\n",
    "import matplotlib.mlab as mlab\n",
    "import matplotlib\n",
    "from matplotlib.pyplot import figure\n",
    "import seaborn as sns\n",
    "\n",
    "%matplotlib inline\n",
    "matplotlib.rcParams['figure.figsize'] = (12,8)\n",
    "from sklearn.preprocessing import LabelEncoder\n",
    "from sklearn.impute import KNNImputer\n",
    "from sklearn.model_selection import train_test_split\n",
    "from sklearn.model_selection import KFold\n",
    "from sklearn.metrics import roc_auc_score, confusion_matrix, roc_curve, accuracy_score, f1_score, precision_score, recall_score\n",
    "from sklearn.ensemble import RandomForestClassifier\n",
    "from sklearn.ensemble import BaggingClassifier\n",
    "from sklearn.tree import DecisionTreeClassifier\n",
    "from sklearn.tree import ExtraTreeClassifier\n",
    "from sklearn.neighbors import KNeighborsClassifier\n",
    "from sklearn import svm\n",
    "from sklearn.preprocessing import RobustScaler\n",
    "from sklearn.naive_bayes import GaussianNB\n",
    "from sklearn.preprocessing import MinMaxScaler\n",
    "from sklearn.metrics import confusion_matrix\n",
    "from sklearn.linear_model import LogisticRegression\n",
    "from sklearn.ensemble import RandomForestRegressor\n",
    "from sklearn.model_selection import cross_val_score\n",
    "from sklearn.metrics import classification_report\n",
    "from sklearn.linear_model import LinearRegression\n",
    "\n",
    "from catboost import CatBoostClassifier\n",
    "from category_encoders import TargetEncoder\n",
    "\n",
    "import lightgbm as lgb\n",
    "from sklearn.cluster import KMeans\n",
    "from sklearn.ensemble import IsolationForest\n",
    "\n",
    "from tqdm import tqdm\n",
    "\n",
    "from category_encoders import TargetEncoder\n",
    "\n",
    "train, test = pd.read_csv('train_dataset_hackathon_mkb.csv', sep=';', encoding='cp1251'), pd.read_csv('test_dataset_hackathon_mkb.csv', sep=';', encoding='cp1251')\n",
    "train['sample'] = 1 # помечаем где у нас трейн\n",
    "test['sample'] = 0 # помечаем где у нас тест\n",
    "test['TARGET'] = 0 # в тесте у нас нет значения Rating, мы его должны предсказать, по этому пока просто заполняем нулями\n",
    "\n",
    "data = train.append(test, sort=False).reset_index(drop=True) # объединяем"
   ]
  },
  {
   "cell_type": "code",
   "execution_count": 2,
   "id": "98d567dc",
   "metadata": {},
   "outputs": [],
   "source": [
    "\n",
    "data['duplicate'] = data.duplicated(subset = [i for i in data.columns if i != 'id_contract']) * 1\n",
    "data.drop(['BIRTHDATE', 'id_contract'], axis=1, inplace=True)\n",
    "data['SIGN_DATE'] = pd.to_datetime(data['SIGN_DATE'], format = '%d%b%Y:%H:%M:%S')\n",
    "data['SIGN_DATE_day_of_week'] = data['SIGN_DATE'].apply(lambda x: x.day_of_week)\n",
    "data['SIGN_DATE_day_of_year'] = data['SIGN_DATE'].apply(lambda x: x.day_of_year)\n",
    "data['SIGN_DATE_days_in_month'] = data['SIGN_DATE'].apply(lambda x: x.days_in_month)\n",
    "data['SIGN_DATE_week'] = data['SIGN_DATE'].apply(lambda x: x.week)\n",
    "data['SIGN_DATE_month'] = data['SIGN_DATE'].apply(lambda x: x.month)\n",
    "data['SIGN_DATE_year'] = data['SIGN_DATE'].apply(lambda x: x.year)\n",
    "data['SIGN_DATE_value'] = data['SIGN_DATE'].apply(lambda x: x.value)\n",
    "data.drop(['SIGN_DATE'], axis=1, inplace=True)\n",
    "data['DATEFIRSTREG'] = pd.to_datetime(data['DATEFIRSTREG'], format = '%d%b%Y:%H:%M:%S')\n",
    "data['DATEFIRSTREG_day_of_week'] = data['DATEFIRSTREG'].apply(lambda x: x.day_of_week)\n",
    "data['DATEFIRSTREG_day_of_year'] = data['DATEFIRSTREG'].apply(lambda x: x.day_of_year)\n",
    "data['DATEFIRSTREG_days_in_month'] = data['DATEFIRSTREG'].apply(lambda x: x.days_in_month)\n",
    "data['DATEFIRSTREG_week'] = data['DATEFIRSTREG'].apply(lambda x: x.week)\n",
    "data['DATEFIRSTREG_month'] = data['DATEFIRSTREG'].apply(lambda x: x.month)\n",
    "data['DATEFIRSTREG_year'] = data['DATEFIRSTREG'].apply(lambda x: x.year)\n",
    "data['DATEFIRSTREG_value'] = data['DATEFIRSTREG'].apply(lambda x: x.value)\n",
    "data.drop(['DATEFIRSTREG'], axis=1, inplace=True)\n",
    "data['TAXREG_REGDATE'] = pd.to_datetime(data['TAXREG_REGDATE'], format = '%d%b%Y:%H:%M:%S')\n",
    "data['TAXREG_REGDATE_day_of_week'] = data['TAXREG_REGDATE'].apply(lambda x: x.day_of_week)\n",
    "data['TAXREG_REGDATE_day_of_year'] = data['TAXREG_REGDATE'].apply(lambda x: x.day_of_year)\n",
    "data['TAXREG_REGDATE_days_in_month'] = data['TAXREG_REGDATE'].apply(lambda x: x.days_in_month)\n",
    "data['TAXREG_REGDATE_week'] = data['TAXREG_REGDATE'].apply(lambda x: x.week)\n",
    "data['TAXREG_REGDATE_month'] = data['TAXREG_REGDATE'].apply(lambda x: x.month)\n",
    "data['TAXREG_REGDATE_year'] = data['TAXREG_REGDATE'].apply(lambda x: x.year)\n",
    "data['TAXREG_REGDATE_value'] = data['TAXREG_REGDATE'].apply(lambda x: x.value)\n",
    "data.drop(['TAXREG_REGDATE'], axis=1, inplace=True)\n",
    "data['TAXREGPAY_REGDATE'] = pd.to_datetime(data['TAXREGPAY_REGDATE'], format = '%d%b%Y:%H:%M:%S')\n",
    "data['TAXREGPAY_REGDATE_day_of_week'] = data['TAXREGPAY_REGDATE'].apply(lambda x: x.day_of_week)\n",
    "data['TAXREGPAY_REGDATE_day_of_year'] = data['TAXREGPAY_REGDATE'].apply(lambda x: x.day_of_year)\n",
    "data['TAXREGPAY_REGDATE_days_in_month'] = data['TAXREGPAY_REGDATE'].apply(lambda x: x.days_in_month)\n",
    "data['TAXREGPAY_REGDATE_week'] = data['TAXREGPAY_REGDATE'].apply(lambda x: x.week)\n",
    "data['TAXREGPAY_REGDATE_month'] = data['TAXREGPAY_REGDATE'].apply(lambda x: x.month)\n",
    "data['TAXREGPAY_REGDATE_year'] = data['TAXREGPAY_REGDATE'].apply(lambda x: x.year)\n",
    "data['TAXREGPAY_REGDATE_value'] = data['TAXREGPAY_REGDATE'].apply(lambda x: x.value)\n",
    "data.drop(['TAXREGPAY_REGDATE'], axis=1, inplace=True)\n",
    "labelencoder = LabelEncoder()\n",
    "data['OKFS_GROUP'] = labelencoder.fit_transform(data['OKFS_GROUP'])\n",
    "data['OKOPF_GROUP'] = labelencoder.fit_transform(data['OKOPF_GROUP'])\n",
    "data['OKOGU_GROUP'] = labelencoder.fit_transform(data['OKOGU_GROUP'])\n",
    "data['WORKERSRANGE'] = labelencoder.fit_transform(data['WORKERSRANGE'])\n",
    "data['OKVED_CODE'] = labelencoder.fit_transform(data['OKVED_CODE'])\n",
    "data['CITIZENSHIP_NAME'] = labelencoder.fit_transform(data['CITIZENSHIP_NAME'])\n",
    "data['SEX_NAME'] = labelencoder.fit_transform(data['SEX_NAME'])\n",
    "\n",
    "data['SIGN_DATE_year_DATEFIRSTREG_year'] = data['SIGN_DATE_year'] - data['DATEFIRSTREG_year']\n",
    "data['SIGN_DATE_year_TAXREG_REGDATE_year'] = data['SIGN_DATE_year'] - data['TAXREG_REGDATE_year']\n",
    "data['SIGN_DATE_year_TAXREGPAY_REGDATE_year'] = data['SIGN_DATE_year'] - data['TAXREGPAY_REGDATE_year']\n",
    "data['TAXREG_REGDATE_year_TAXREGPAY_REGDATE_year'] = data['TAXREG_REGDATE_year'] - data['TAXREGPAY_REGDATE_year']\n",
    "data['DATEFIRSTREG_year_TAXREGPAY_REGDATE_year'] = data['DATEFIRSTREG_year'] - data['TAXREGPAY_REGDATE_year']\n",
    "data['DATEFIRSTREG_year_TAXREG_REGDATE_year'] = data['DATEFIRSTREG_year'] - data['TAXREG_REGDATE_year']\n",
    "\n",
    "#data['IS_NA_SUM'] = data.isna().sum(axis = 1).values"
   ]
  },
  {
   "cell_type": "code",
   "execution_count": 3,
   "id": "8cbcfaba",
   "metadata": {},
   "outputs": [],
   "source": [
    "for i in data.columns:\n",
    "    if data[i].isna().sum() >= 1:\n",
    "        data[i+'_isNAN'] = pd.isna(data[i]).astype('uint8')"
   ]
  },
  {
   "cell_type": "code",
   "execution_count": 4,
   "id": "71acccea",
   "metadata": {},
   "outputs": [],
   "source": [
    "data.fillna(0, inplace = True)"
   ]
  },
  {
   "cell_type": "code",
   "execution_count": 5,
   "id": "9e5fc336",
   "metadata": {},
   "outputs": [],
   "source": [
    "for i in data.columns: \n",
    "    \n",
    "    model=IsolationForest(n_estimators=100, max_samples='auto', contamination=float(0.1),max_features=1.0, n_jobs=-1)\n",
    "    model.fit(data[[i]].values)\n",
    "\n",
    "    data[i+'_IsolationForest'] = model.predict(data[[i]].values)\n",
    "    "
   ]
  },
  {
   "cell_type": "code",
   "execution_count": 6,
   "id": "f286be90",
   "metadata": {},
   "outputs": [
    {
     "data": {
      "text/plain": [
       "Index(['F1320', 'OKFS_GROUP', 'OKOPF_GROUP', 'OKOGU_GROUP', 'OKATO_REGIONCODE',\n",
       "       'OKATO_FED', 'OKTMO_FED', 'WORKERSRANGE', 'COUNTCOOWNERFCSM',\n",
       "       'COUNTCOOWNERROSSTAT', 'COUNTCOOWNEREGRUL', 'COUNTBRANCH',\n",
       "       'COUNTBRANCHROSSTAT', 'COUNTBRANCHEGRUL', 'TELEPHONECOUNT',\n",
       "       'MANAGERCOUNTINCOUNTRY', 'MANAGERCOUNTINREGION', 'MANAGERINNCOUNT',\n",
       "       'PLAINTIFF_CASESNUMBER_YEAR', 'DEFENDANT_CASESNUMBER_YEAR',\n",
       "       'THIRDOROTHERPERSON_YEAR', 'THIRDOROTHERPERSON_EVER',\n",
       "       'NOTADMITTEDNUMBER_233_YEAR', 'NOTADMITTEDNUMBER_95_YEAR',\n",
       "       'COUNT_CHANGE_YEAR', 'COUNT_CHANGE_EVER', 'AGE', 'SEX_NAME',\n",
       "       'CITIZENSHIP_NAME', 'SIGN_DATE_day_of_week', 'SIGN_DATE_days_in_month',\n",
       "       'SIGN_DATE_week', 'SIGN_DATE_month', 'DATEFIRSTREG_day_of_week',\n",
       "       'DATEFIRSTREG_days_in_month', 'DATEFIRSTREG_week', 'DATEFIRSTREG_month',\n",
       "       'DATEFIRSTREG_year', 'TAXREG_REGDATE_day_of_week',\n",
       "       'TAXREG_REGDATE_days_in_month', 'TAXREG_REGDATE_week',\n",
       "       'TAXREG_REGDATE_month', 'TAXREG_REGDATE_year',\n",
       "       'TAXREGPAY_REGDATE_day_of_week', 'TAXREGPAY_REGDATE_days_in_month',\n",
       "       'TAXREGPAY_REGDATE_week', 'TAXREGPAY_REGDATE_month',\n",
       "       'TAXREGPAY_REGDATE_year', 'SIGN_DATE_year_DATEFIRSTREG_year',\n",
       "       'SIGN_DATE_year_TAXREG_REGDATE_year',\n",
       "       'SIGN_DATE_year_TAXREGPAY_REGDATE_year',\n",
       "       'TAXREG_REGDATE_year_TAXREGPAY_REGDATE_year',\n",
       "       'DATEFIRSTREG_year_TAXREGPAY_REGDATE_year',\n",
       "       'DATEFIRSTREG_year_TAXREG_REGDATE_year'],\n",
       "      dtype='object')"
      ]
     },
     "execution_count": 6,
     "metadata": {},
     "output_type": "execute_result"
    }
   ],
   "source": [
    "data.columns[(data.nunique() < 90) & (data.nunique() > 2)]"
   ]
  },
  {
   "cell_type": "code",
   "execution_count": 7,
   "id": "ed5f7977",
   "metadata": {},
   "outputs": [],
   "source": [
    "data = pd.get_dummies(data, columns=[ \n",
    "    'F1320', 'OKFS_GROUP', 'OKOPF_GROUP', 'OKOGU_GROUP', 'OKATO_REGIONCODE',\n",
    "       'OKATO_FED', 'OKTMO_FED', 'WORKERSRANGE', 'COUNTCOOWNERFCSM',\n",
    "       'COUNTCOOWNERROSSTAT', 'COUNTCOOWNEREGRUL', 'COUNTBRANCH',\n",
    "       'COUNTBRANCHROSSTAT', 'COUNTBRANCHEGRUL', 'TELEPHONECOUNT',\n",
    "       'MANAGERCOUNTINCOUNTRY', 'MANAGERCOUNTINREGION', 'MANAGERINNCOUNT',\n",
    "       'PLAINTIFF_CASESNUMBER_YEAR', 'DEFENDANT_CASESNUMBER_YEAR',\n",
    "       'THIRDOROTHERPERSON_YEAR', 'THIRDOROTHERPERSON_EVER',\n",
    "       'NOTADMITTEDNUMBER_233_YEAR', 'NOTADMITTEDNUMBER_95_YEAR',\n",
    "       'COUNT_CHANGE_YEAR', 'COUNT_CHANGE_EVER', 'AGE', 'SEX_NAME',\n",
    "       'CITIZENSHIP_NAME', 'SIGN_DATE_day_of_week', 'SIGN_DATE_days_in_month',\n",
    "       'SIGN_DATE_week', 'SIGN_DATE_month', 'DATEFIRSTREG_day_of_week',\n",
    "       'DATEFIRSTREG_days_in_month', 'DATEFIRSTREG_week', 'DATEFIRSTREG_month',\n",
    "       'DATEFIRSTREG_year', 'TAXREG_REGDATE_day_of_week',\n",
    "       'TAXREG_REGDATE_days_in_month', 'TAXREG_REGDATE_week',\n",
    "       'TAXREG_REGDATE_month', 'TAXREG_REGDATE_year',\n",
    "       'TAXREGPAY_REGDATE_day_of_week', 'TAXREGPAY_REGDATE_days_in_month',\n",
    "       'TAXREGPAY_REGDATE_week', 'TAXREGPAY_REGDATE_month',\n",
    "       'TAXREGPAY_REGDATE_year', 'SIGN_DATE_year_DATEFIRSTREG_year',\n",
    "       'SIGN_DATE_year_TAXREG_REGDATE_year',\n",
    "       'SIGN_DATE_year_TAXREGPAY_REGDATE_year',\n",
    "       'TAXREG_REGDATE_year_TAXREGPAY_REGDATE_year',\n",
    "       'DATEFIRSTREG_year_TAXREGPAY_REGDATE_year',\n",
    "       'DATEFIRSTREG_year_TAXREG_REGDATE_year'], dummy_na=True)"
   ]
  },
  {
   "cell_type": "code",
   "execution_count": 8,
   "id": "8d1bfe40",
   "metadata": {},
   "outputs": [],
   "source": [
    "data['F1410_F1510_F1300'] = (data['F1410'] + data['F1510']) / data['F1300']\n",
    "data['F1410_F1510_F2330_F2330_F2320'] = (data['F1410'] + data['F1510']) / (data['F2330'] + data['F2330'] - data['F2320']) \n",
    "data['F1200_F1530_F1540'] = (data['F1200']) / (data['F1500'] - data['F1530'] - data['F1550'])\n",
    "data['F1300_F1530_F1100_F1200'] = (data['F1300'] + data['F1530'] - data['F1100']) / data['F1200']\n",
    "data['F2300_F2330_F2320_F2110'] = (data['F2300'] + data['F2330'] - data['F2320']) / data['F2110']\n",
    "data['F1170_F1230_F1240_F1600'] = (data['F1170'] + data['F1230'] + data['F1240']) / data['F1600']\n",
    "data['F1300_F1530_F1170'] = data['F1300'] + data['F1530'] - data['F1170'] \n",
    "data.fillna(0, inplace = True)"
   ]
  },
  {
   "cell_type": "code",
   "execution_count": 13,
   "id": "806ea60b",
   "metadata": {},
   "outputs": [
    {
     "data": {
      "text/plain": [
       "(25221, 2169)"
      ]
     },
     "execution_count": 13,
     "metadata": {},
     "output_type": "execute_result"
    }
   ],
   "source": [
    "# data.to_csv('data_prepared_to_AI_11', index=False)\n",
    "data.shape"
   ]
  },
  {
   "cell_type": "code",
   "execution_count": 15,
   "id": "1aa2d586",
   "metadata": {},
   "outputs": [],
   "source": [
    "data.replace([np.inf, -np.inf], np.nan, inplace=True)\n",
    "data.fillna(0, inplace = True)"
   ]
  },
  {
   "cell_type": "code",
   "execution_count": 16,
   "id": "63b14e48",
   "metadata": {},
   "outputs": [],
   "source": [
    "data.to_csv('data_prepared_to_AI_101', index=False)"
   ]
  },
  {
   "cell_type": "code",
   "execution_count": 250,
   "id": "7ec7aae4",
   "metadata": {},
   "outputs": [],
   "source": [
    "train_data = data.query('sample == 1').drop(['sample'], axis=1)\n",
    "test_data = data.query('sample == 0').drop(['sample'], axis=1)\n",
    "test_data = test_data.drop(['TARGET'], axis=1)\n",
    "#train_data = train_data.drop_duplicates(subset = [i for i in train_data.columns if i != 'id_contract']).reset_index(drop=True)\n",
    "\n",
    "y = train_data['TARGET'].values            \n",
    "X = train_data.drop(['TARGET'], axis=1)"
   ]
  },
  {
   "cell_type": "code",
   "execution_count": 251,
   "id": "a1bddd84",
   "metadata": {},
   "outputs": [],
   "source": [
    "X_train, X_test, y_train, y_test = X.iloc[:14000,], X.iloc[14000:,], y[:14000,], y[14000:,]"
   ]
  },
  {
   "cell_type": "code",
   "execution_count": 252,
   "id": "328375e0",
   "metadata": {},
   "outputs": [
    {
     "name": "stdout",
     "output_type": "stream",
     "text": [
      "FP, TP              : 119.77 556.81\n",
      "ROC_AUC_SCORE       : 0.95\n",
      "accuracy            : 0.87\n",
      "precision           : 0.93\n",
      "recall              : 0.69\n",
      "f1                  : 0.79\n",
      "val, train  AUC     : 0.95 1.00\n",
      "val, train  AUC_2   : 0.83 1.00\n",
      "[[2423   74]\n",
      " [ 439  955]]\n",
      "              precision    recall  f1-score   support\n",
      "\n",
      "           0       0.85      0.97      0.90      2497\n",
      "           1       0.93      0.69      0.79      1394\n",
      "\n",
      "    accuracy                           0.87      3891\n",
      "   macro avg       0.89      0.83      0.85      3891\n",
      "weighted avg       0.88      0.87      0.86      3891\n",
      "\n"
     ]
    }
   ],
   "source": [
    "# X_train, X_test, y_train, y_test = train_test_split(X, y, test_size=0.2, random_state=13, shuffle = False)\n",
    "\n",
    "RF = lgb.LGBMClassifier(num_leaves=200, learning_rate=0.04, n_estimators=int(3000*1),\n",
    "                                          colsample_bytree=0.5, subsample=0.5,\n",
    "                                          n_jobs=-1, random_state=0)\n",
    "RF.fit(X_train, y_train)\n",
    "\n",
    "test_pred = RF.predict_proba(X_test)[:,1]\n",
    "test_pred_bin = RF.predict(X_test)\n",
    "\n",
    "fpr, tpr, _ = roc_curve(y_test, test_pred)\n",
    "auc = roc_auc_score(y_test, test_pred)\n",
    "accuracy = accuracy_score(y_test, test_pred_bin)\n",
    "f1 = f1_score(y_test, test_pred_bin)\n",
    "precision =  precision_score(y_test, test_pred_bin)\n",
    "recall = recall_score(y_test, test_pred_bin)\n",
    "\n",
    "print('FP, TP              :', \"%0.2f\" % sum(fpr), \"%0.2f\" % sum(tpr))\n",
    "print('ROC_AUC_SCORE       :', \"%0.2f\" % auc)\n",
    "print('accuracy            :', \"%0.2f\" % accuracy)\n",
    "print('precision           :', \"%0.2f\" % precision)\n",
    "print('recall              :', \"%0.2f\" % recall)\n",
    "print('f1                  :', \"%0.2f\" % f1)\n",
    "\n",
    "print('val, train  AUC     :', \"%0.2f\" % roc_auc_score(y_test, test_pred), \"%0.2f\" % roc_auc_score(y_train, RF.predict_proba(X_train)[:,1]))\n",
    "print('val, train  AUC_2   :', \"%0.2f\" % roc_auc_score(y_test, test_pred_bin), \"%0.2f\" % roc_auc_score(y_train, RF.predict(X_train)))\n",
    "print(confusion_matrix(y_test, test_pred_bin))\n",
    "print(classification_report(y_test, RF.predict(X_test)))"
   ]
  },
  {
   "cell_type": "code",
   "execution_count": 253,
   "id": "72c0c7b3",
   "metadata": {},
   "outputs": [
    {
     "name": "stderr",
     "output_type": "stream",
     "text": [
      "/home/atp/anaconda3/lib/python3.8/site-packages/numpy/core/fromnumeric.py:87: RuntimeWarning: invalid value encountered in reduce\n",
      "  return ufunc.reduce(obj, axis, dtype, out, **passkwargs)\n"
     ]
    },
    {
     "ename": "ValueError",
     "evalue": "Input contains NaN, infinity or a value too large for dtype('float32').",
     "output_type": "error",
     "traceback": [
      "\u001b[0;31m---------------------------------------------------------------------------\u001b[0m",
      "\u001b[0;31mValueError\u001b[0m                                Traceback (most recent call last)",
      "\u001b[0;32m<ipython-input-253-0f6d632c877f>\u001b[0m in \u001b[0;36m<module>\u001b[0;34m\u001b[0m\n\u001b[1;32m      2\u001b[0m \u001b[0;34m\u001b[0m\u001b[0m\n\u001b[1;32m      3\u001b[0m \u001b[0mRF\u001b[0m \u001b[0;34m=\u001b[0m \u001b[0mRandomForestClassifier\u001b[0m\u001b[0;34m(\u001b[0m \u001b[0mn_jobs\u001b[0m\u001b[0;34m=\u001b[0m\u001b[0;34m-\u001b[0m\u001b[0;36m1\u001b[0m\u001b[0;34m,\u001b[0m \u001b[0mrandom_state\u001b[0m\u001b[0;34m=\u001b[0m\u001b[0;36m0\u001b[0m\u001b[0;34m)\u001b[0m\u001b[0;34m\u001b[0m\u001b[0;34m\u001b[0m\u001b[0m\n\u001b[0;32m----> 4\u001b[0;31m \u001b[0mRF\u001b[0m\u001b[0;34m.\u001b[0m\u001b[0mfit\u001b[0m\u001b[0;34m(\u001b[0m\u001b[0mX_train\u001b[0m\u001b[0;34m,\u001b[0m \u001b[0my_train\u001b[0m\u001b[0;34m)\u001b[0m\u001b[0;34m\u001b[0m\u001b[0;34m\u001b[0m\u001b[0m\n\u001b[0m\u001b[1;32m      5\u001b[0m \u001b[0;34m\u001b[0m\u001b[0m\n\u001b[1;32m      6\u001b[0m \u001b[0mtest_pred\u001b[0m \u001b[0;34m=\u001b[0m \u001b[0mRF\u001b[0m\u001b[0;34m.\u001b[0m\u001b[0mpredict_proba\u001b[0m\u001b[0;34m(\u001b[0m\u001b[0mX_test\u001b[0m\u001b[0;34m)\u001b[0m\u001b[0;34m[\u001b[0m\u001b[0;34m:\u001b[0m\u001b[0;34m,\u001b[0m\u001b[0;36m1\u001b[0m\u001b[0;34m]\u001b[0m\u001b[0;34m\u001b[0m\u001b[0;34m\u001b[0m\u001b[0m\n",
      "\u001b[0;32m~/anaconda3/lib/python3.8/site-packages/sklearn/ensemble/_forest.py\u001b[0m in \u001b[0;36mfit\u001b[0;34m(self, X, y, sample_weight)\u001b[0m\n\u001b[1;32m    325\u001b[0m         \u001b[0;32mif\u001b[0m \u001b[0missparse\u001b[0m\u001b[0;34m(\u001b[0m\u001b[0my\u001b[0m\u001b[0;34m)\u001b[0m\u001b[0;34m:\u001b[0m\u001b[0;34m\u001b[0m\u001b[0;34m\u001b[0m\u001b[0m\n\u001b[1;32m    326\u001b[0m             \u001b[0;32mraise\u001b[0m \u001b[0mValueError\u001b[0m\u001b[0;34m(\u001b[0m\u001b[0;34m\"sparse multilabel-indicator for y is not supported.\"\u001b[0m\u001b[0;34m)\u001b[0m\u001b[0;34m\u001b[0m\u001b[0;34m\u001b[0m\u001b[0m\n\u001b[0;32m--> 327\u001b[0;31m         X, y = self._validate_data(\n\u001b[0m\u001b[1;32m    328\u001b[0m             \u001b[0mX\u001b[0m\u001b[0;34m,\u001b[0m \u001b[0my\u001b[0m\u001b[0;34m,\u001b[0m \u001b[0mmulti_output\u001b[0m\u001b[0;34m=\u001b[0m\u001b[0;32mTrue\u001b[0m\u001b[0;34m,\u001b[0m \u001b[0maccept_sparse\u001b[0m\u001b[0;34m=\u001b[0m\u001b[0;34m\"csc\"\u001b[0m\u001b[0;34m,\u001b[0m \u001b[0mdtype\u001b[0m\u001b[0;34m=\u001b[0m\u001b[0mDTYPE\u001b[0m\u001b[0;34m\u001b[0m\u001b[0;34m\u001b[0m\u001b[0m\n\u001b[1;32m    329\u001b[0m         )\n",
      "\u001b[0;32m~/anaconda3/lib/python3.8/site-packages/sklearn/base.py\u001b[0m in \u001b[0;36m_validate_data\u001b[0;34m(self, X, y, reset, validate_separately, **check_params)\u001b[0m\n\u001b[1;32m    574\u001b[0m                 \u001b[0my\u001b[0m \u001b[0;34m=\u001b[0m \u001b[0mcheck_array\u001b[0m\u001b[0;34m(\u001b[0m\u001b[0my\u001b[0m\u001b[0;34m,\u001b[0m \u001b[0;34m**\u001b[0m\u001b[0mcheck_y_params\u001b[0m\u001b[0;34m)\u001b[0m\u001b[0;34m\u001b[0m\u001b[0;34m\u001b[0m\u001b[0m\n\u001b[1;32m    575\u001b[0m             \u001b[0;32melse\u001b[0m\u001b[0;34m:\u001b[0m\u001b[0;34m\u001b[0m\u001b[0;34m\u001b[0m\u001b[0m\n\u001b[0;32m--> 576\u001b[0;31m                 \u001b[0mX\u001b[0m\u001b[0;34m,\u001b[0m \u001b[0my\u001b[0m \u001b[0;34m=\u001b[0m \u001b[0mcheck_X_y\u001b[0m\u001b[0;34m(\u001b[0m\u001b[0mX\u001b[0m\u001b[0;34m,\u001b[0m \u001b[0my\u001b[0m\u001b[0;34m,\u001b[0m \u001b[0;34m**\u001b[0m\u001b[0mcheck_params\u001b[0m\u001b[0;34m)\u001b[0m\u001b[0;34m\u001b[0m\u001b[0;34m\u001b[0m\u001b[0m\n\u001b[0m\u001b[1;32m    577\u001b[0m             \u001b[0mout\u001b[0m \u001b[0;34m=\u001b[0m \u001b[0mX\u001b[0m\u001b[0;34m,\u001b[0m \u001b[0my\u001b[0m\u001b[0;34m\u001b[0m\u001b[0;34m\u001b[0m\u001b[0m\n\u001b[1;32m    578\u001b[0m \u001b[0;34m\u001b[0m\u001b[0m\n",
      "\u001b[0;32m~/anaconda3/lib/python3.8/site-packages/sklearn/utils/validation.py\u001b[0m in \u001b[0;36mcheck_X_y\u001b[0;34m(X, y, accept_sparse, accept_large_sparse, dtype, order, copy, force_all_finite, ensure_2d, allow_nd, multi_output, ensure_min_samples, ensure_min_features, y_numeric, estimator)\u001b[0m\n\u001b[1;32m    954\u001b[0m         \u001b[0;32mraise\u001b[0m \u001b[0mValueError\u001b[0m\u001b[0;34m(\u001b[0m\u001b[0;34m\"y cannot be None\"\u001b[0m\u001b[0;34m)\u001b[0m\u001b[0;34m\u001b[0m\u001b[0;34m\u001b[0m\u001b[0m\n\u001b[1;32m    955\u001b[0m \u001b[0;34m\u001b[0m\u001b[0m\n\u001b[0;32m--> 956\u001b[0;31m     X = check_array(\n\u001b[0m\u001b[1;32m    957\u001b[0m         \u001b[0mX\u001b[0m\u001b[0;34m,\u001b[0m\u001b[0;34m\u001b[0m\u001b[0;34m\u001b[0m\u001b[0m\n\u001b[1;32m    958\u001b[0m         \u001b[0maccept_sparse\u001b[0m\u001b[0;34m=\u001b[0m\u001b[0maccept_sparse\u001b[0m\u001b[0;34m,\u001b[0m\u001b[0;34m\u001b[0m\u001b[0;34m\u001b[0m\u001b[0m\n",
      "\u001b[0;32m~/anaconda3/lib/python3.8/site-packages/sklearn/utils/validation.py\u001b[0m in \u001b[0;36mcheck_array\u001b[0;34m(array, accept_sparse, accept_large_sparse, dtype, order, copy, force_all_finite, ensure_2d, allow_nd, ensure_min_samples, ensure_min_features, estimator)\u001b[0m\n\u001b[1;32m    790\u001b[0m \u001b[0;34m\u001b[0m\u001b[0m\n\u001b[1;32m    791\u001b[0m         \u001b[0;32mif\u001b[0m \u001b[0mforce_all_finite\u001b[0m\u001b[0;34m:\u001b[0m\u001b[0;34m\u001b[0m\u001b[0;34m\u001b[0m\u001b[0m\n\u001b[0;32m--> 792\u001b[0;31m             \u001b[0m_assert_all_finite\u001b[0m\u001b[0;34m(\u001b[0m\u001b[0marray\u001b[0m\u001b[0;34m,\u001b[0m \u001b[0mallow_nan\u001b[0m\u001b[0;34m=\u001b[0m\u001b[0mforce_all_finite\u001b[0m \u001b[0;34m==\u001b[0m \u001b[0;34m\"allow-nan\"\u001b[0m\u001b[0;34m)\u001b[0m\u001b[0;34m\u001b[0m\u001b[0;34m\u001b[0m\u001b[0m\n\u001b[0m\u001b[1;32m    793\u001b[0m \u001b[0;34m\u001b[0m\u001b[0m\n\u001b[1;32m    794\u001b[0m     \u001b[0;32mif\u001b[0m \u001b[0mensure_min_samples\u001b[0m \u001b[0;34m>\u001b[0m \u001b[0;36m0\u001b[0m\u001b[0;34m:\u001b[0m\u001b[0;34m\u001b[0m\u001b[0;34m\u001b[0m\u001b[0m\n",
      "\u001b[0;32m~/anaconda3/lib/python3.8/site-packages/sklearn/utils/validation.py\u001b[0m in \u001b[0;36m_assert_all_finite\u001b[0;34m(X, allow_nan, msg_dtype)\u001b[0m\n\u001b[1;32m    112\u001b[0m         ):\n\u001b[1;32m    113\u001b[0m             \u001b[0mtype_err\u001b[0m \u001b[0;34m=\u001b[0m \u001b[0;34m\"infinity\"\u001b[0m \u001b[0;32mif\u001b[0m \u001b[0mallow_nan\u001b[0m \u001b[0;32melse\u001b[0m \u001b[0;34m\"NaN, infinity\"\u001b[0m\u001b[0;34m\u001b[0m\u001b[0;34m\u001b[0m\u001b[0m\n\u001b[0;32m--> 114\u001b[0;31m             raise ValueError(\n\u001b[0m\u001b[1;32m    115\u001b[0m                 msg_err.format(\n\u001b[1;32m    116\u001b[0m                     \u001b[0mtype_err\u001b[0m\u001b[0;34m,\u001b[0m \u001b[0mmsg_dtype\u001b[0m \u001b[0;32mif\u001b[0m \u001b[0mmsg_dtype\u001b[0m \u001b[0;32mis\u001b[0m \u001b[0;32mnot\u001b[0m \u001b[0;32mNone\u001b[0m \u001b[0;32melse\u001b[0m \u001b[0mX\u001b[0m\u001b[0;34m.\u001b[0m\u001b[0mdtype\u001b[0m\u001b[0;34m\u001b[0m\u001b[0;34m\u001b[0m\u001b[0m\n",
      "\u001b[0;31mValueError\u001b[0m: Input contains NaN, infinity or a value too large for dtype('float32')."
     ]
    }
   ],
   "source": [
    "# X_train, X_test, y_train, y_test = train_test_split(X, y, test_size=0.2, random_state=13, shuffle = False)\n",
    "\n",
    "RF = RandomForestClassifier( n_jobs=-1, random_state=0)\n",
    "RF.fit(X_train, y_train)\n",
    "\n",
    "test_pred = RF.predict_proba(X_test)[:,1]\n",
    "test_pred_bin = RF.predict(X_test)\n",
    "\n",
    "fpr, tpr, _ = roc_curve(y_test, test_pred)\n",
    "auc = roc_auc_score(y_test, test_pred)\n",
    "accuracy = accuracy_score(y_test, test_pred_bin)\n",
    "f1 = f1_score(y_test, test_pred_bin)\n",
    "precision =  precision_score(y_test, test_pred_bin)\n",
    "recall = recall_score(y_test, test_pred_bin)\n",
    "\n",
    "print('FP, TP              :', \"%0.2f\" % sum(fpr), \"%0.2f\" % sum(tpr))\n",
    "print('ROC_AUC_SCORE       :', \"%0.2f\" % auc)\n",
    "print('accuracy            :', \"%0.2f\" % accuracy)\n",
    "print('precision           :', \"%0.2f\" % precision)\n",
    "print('recall              :', \"%0.2f\" % recall)\n",
    "print('f1                  :', \"%0.2f\" % f1)\n",
    "\n",
    "print('val, train  AUC     :', \"%0.2f\" % roc_auc_score(y_test, test_pred), \"%0.2f\" % roc_auc_score(y_train, RF.predict_proba(X_train)[:,1]))\n",
    "print('val, train  AUC_2   :', \"%0.2f\" % roc_auc_score(y_test, test_pred_bin), \"%0.2f\" % roc_auc_score(y_train, RF.predict(X_train)))\n",
    "print(confusion_matrix(y_test, test_pred_bin))\n",
    "print(classification_report(y_test, RF.predict(X_test)))"
   ]
  },
  {
   "cell_type": "code",
   "execution_count": 254,
   "id": "437e8c7d",
   "metadata": {},
   "outputs": [
    {
     "name": "stdout",
     "output_type": "stream",
     "text": [
      "FP, TP              : 149.22 620.90\n",
      "ROC_AUC_SCORE       : 0.95\n",
      "accuracy            : 0.88\n",
      "precision           : 0.91\n",
      "recall              : 0.74\n",
      "f1                  : 0.81\n",
      "val, train  AUC     : 0.95 0.99\n",
      "val, train  AUC_2   : 0.85 0.94\n",
      "[[2392  105]\n",
      " [ 365 1029]]\n",
      "              precision    recall  f1-score   support\n",
      "\n",
      "           0       0.87      0.96      0.91      2497\n",
      "           1       0.91      0.74      0.81      1394\n",
      "\n",
      "    accuracy                           0.88      3891\n",
      "   macro avg       0.89      0.85      0.86      3891\n",
      "weighted avg       0.88      0.88      0.88      3891\n",
      "\n"
     ]
    }
   ],
   "source": [
    "# X_train, X_test, y_train, y_test = train_test_split(X, y, test_size=0.2, random_state=13, shuffle = False)\n",
    "scale_pos_weight = sum(y_train == 0) / (1.0 * sum(y_train == 1))\n",
    "\n",
    "RF_T = CatBoostClassifier(\n",
    "      verbose=0\n",
    "    #loss_function='Logloss'\n",
    ")\n",
    "RF_T.fit(X_train, y_train)\n",
    "\n",
    "test_pred = RF_T.predict_proba(X_test)[:,1]\n",
    "test_pred_bin = RF_T.predict(X_test)\n",
    "\n",
    "fpr, tpr, _ = roc_curve(y_test, test_pred)\n",
    "auc = roc_auc_score(y_test, test_pred)\n",
    "accuracy = accuracy_score(y_test, test_pred_bin)\n",
    "f1 = f1_score(y_test, test_pred_bin)\n",
    "precision =  precision_score(y_test, test_pred_bin)\n",
    "recall = recall_score(y_test, test_pred_bin)\n",
    "\n",
    "print('FP, TP              :', \"%0.2f\" % sum(fpr), \"%0.2f\" % sum(tpr))\n",
    "print('ROC_AUC_SCORE       :', \"%0.2f\" % auc)\n",
    "print('accuracy            :', \"%0.2f\" % accuracy)\n",
    "print('precision           :', \"%0.2f\" % precision)\n",
    "print('recall              :', \"%0.2f\" % recall)\n",
    "print('f1                  :', \"%0.2f\" % f1)\n",
    "\n",
    "print('val, train  AUC     :', \"%0.2f\" % roc_auc_score(y_test, test_pred), \"%0.2f\" % roc_auc_score(y_train, RF_T.predict_proba(X_train)[:,1]))\n",
    "print('val, train  AUC_2   :', \"%0.2f\" % roc_auc_score(y_test, test_pred_bin), \"%0.2f\" % roc_auc_score(y_train, RF_T.predict(X_train)))\n",
    "\n",
    "print(confusion_matrix(y_test, test_pred_bin))\n",
    "print(classification_report(y_test, RF_T.predict(X_test)))"
   ]
  },
  {
   "cell_type": "code",
   "execution_count": 257,
   "id": "b711b34d",
   "metadata": {},
   "outputs": [
    {
     "name": "stdout",
     "output_type": "stream",
     "text": [
      "RandomForestClassifier  0.8871950267095686\n",
      "0.8949720670391061\n",
      "[[996  80]\n",
      " [108 606]]\n",
      "\n",
      "RandomForestClassifier  0.8843550323355147\n",
      "0.8921185019564002\n",
      "[[978  76]\n",
      " [117 618]]\n",
      "\n",
      "RandomForestClassifier  0.9011819913366717\n",
      "0.9083286752375629\n",
      "[[978  54]\n",
      " [110 647]]\n",
      "\n",
      "RandomForestClassifier  0.8916533252013926\n",
      "0.8971492453884852\n",
      "[[943  66]\n",
      " [118 662]]\n",
      "\n",
      "RandomForestClassifier  0.883346063807046\n",
      "0.8921185019564002\n",
      "[[997  79]\n",
      " [114 599]]\n",
      "\n",
      "RandomForestClassifier  0.8895480074681684\n",
      "0.8954723309111235\n",
      "[[951  70]\n",
      " [117 651]]\n",
      "\n",
      "RandomForestClassifier  0.8875744870674206\n",
      "0.8965902738960313\n",
      "[[987  64]\n",
      " [121 617]]\n",
      "\n",
      "RandomForestClassifier  0.8956746080509559\n",
      "0.8999441028507547\n",
      "[[953  79]\n",
      " [100 657]]\n",
      "\n",
      "RandomForestClassifier  0.8922724244884365\n",
      "0.9010620458356624\n",
      "[[1004   68]\n",
      " [ 109  608]]\n",
      "\n",
      "RandomForestClassifier  0.8995300813220379\n",
      "0.9055338177752935\n",
      "[[1002   77]\n",
      " [  92  618]]\n",
      "\n"
     ]
    }
   ],
   "source": [
    "\n",
    "cv = KFold(n_splits=10, random_state=42, shuffle=True)\n",
    "pred = []\n",
    "classifiers = []\n",
    "# метод split возвращает индексы для объектов train и test\n",
    "for train_index, test_index in cv.split(train_data['TARGET']):\n",
    "    #RF = RandomForestClassifier(n_estimators=300, max_depth=39, n_jobs=-1, random_state=0)\n",
    "    #extra_tree = ExtraTreeClassifier(random_state=0)\n",
    "    #neigh = KNeighborsClassifier(n_neighbors=3)\n",
    "    #XGB = XGBClassifier(use_label_encoder =False, eval_metric='mlogloss')\n",
    "    #GBCl = GradientBoostingClassifier()\n",
    "    \n",
    "    \n",
    "    \n",
    "    X_train, X_test = X.iloc[train_index, :], X.iloc[test_index, :]\n",
    "    y_train, y_test = train_data['TARGET'][train_index], train_data['TARGET'][test_index]\n",
    "    scale_pos_weight = sum(y_train == 0) / (1.0 * sum(y_train == 1))\n",
    "    #clf.fit(X_train, y_train, eval_set=(X_test, y_test), use_best_model=True)\n",
    "    clf = CatBoostClassifier(\n",
    "      verbose=0\n",
    "    #loss_function='Logloss'\n",
    ")\n",
    "    clf.fit(X_train, y_train)\n",
    "    #BC = BaggingClassifier(clf, random_state=13, n_jobs=-1).fit(X_train, y_train)\n",
    "    #ETREE = extra_tree.fit(X_train, y_train)\n",
    "   # neigh_ = neigh.fit(X_train, y_train)\n",
    "    #XGB_ = XGB.fit(X_train, y_train)\n",
    "    #GBCl_ = GBCl.fit(X_train, y_train)\n",
    "    \n",
    "    #print('BaggingClassifier: ', roc_auc_score(y_test, BC.predict(X_test)))\n",
    "    #print('CatBoostClassifier ', roc_auc_score(y_test, clf.predict(X_test)))\n",
    "    print('RandomForestClassifier ', roc_auc_score(y_test, clf.predict(X_test)))\n",
    "    print (accuracy_score(y_test, clf.predict(X_test)))\n",
    "    print(confusion_matrix(y_test, clf.predict(X_test)))\n",
    "    #print('ExtraTreeClassifier ', roc_auc_score(y_test, ETREE.predict(X_test)))\n",
    "    #print('KNeighborsClassifier ', roc_auc_score(y_test, neigh_.predict(X_test)))\n",
    "    #print('XGB ', roc_auc_score(y_test, XGB_.predict(X_test)))\n",
    "    #print('GradientBoostingClassifier ', roc_auc_score(y_test, GBCl_.predict(X_test)))\n",
    "    \n",
    "    print('')\n",
    " \n",
    "    # получим 5 оптимальных классификаторов\n",
    "    classifiers.append(clf)\n",
    "    pred += [clf.predict_proba(test_data)[:,1]]"
   ]
  },
  {
   "cell_type": "code",
   "execution_count": 256,
   "id": "49a44544",
   "metadata": {},
   "outputs": [
    {
     "data": {
      "image/png": "[encoded data removed]",
      "text/plain": [
       "<Figure size 720x576 with 1 Axes>"
      ]
     },
     "metadata": {
      "needs_background": "light"
     },
     "output_type": "display_data"
    }
   ],
   "source": [
    "\n",
    "def plot_feature_importance(importance,names,model_type):\n",
    "\n",
    "    #Create arrays from feature importance and feature names\n",
    "    feature_importance = np.array(importance)\n",
    "    feature_names = np.array(names)\n",
    "\n",
    "    #Create a DataFrame using a Dictionary\n",
    "    data={'feature_names':feature_names,'feature_importance':feature_importance}\n",
    "    fi_df = pd.DataFrame(data)\n",
    "\n",
    "    #Sort the DataFrame in order decreasing feature importance\n",
    "    fi_df.sort_values(by=['feature_importance'], ascending=False,inplace=True)\n",
    "\n",
    "    #Define size of bar plot\n",
    "    plt.figure(figsize=(10,8))\n",
    "    #Plot Searborn bar chart\n",
    "    sns.barplot(x=fi_df['feature_importance'][:30], y=fi_df['feature_names'][:30])\n",
    "    #Add chart labels\n",
    "    plt.title(model_type + ' FEATURE IMPORTANCE')\n",
    "    plt.xlabel('FEATURE IMPORTANCE')\n",
    "    plt.ylabel('FEATURE NAMES')\n",
    "\n",
    "plot_feature_importance(RF_T.get_feature_importance(),X_test.columns,'CATBOOST')\n"
   ]
  },
  {
   "cell_type": "code",
   "execution_count": 258,
   "id": "b9d688af",
   "metadata": {},
   "outputs": [
    {
     "data": {
      "text/html": [
       "<div>\n",
       "<style scoped>\n",
       "    .dataframe tbody tr th:only-of-type {\n",
       "        vertical-align: middle;\n",
       "    }\n",
       "\n",
       "    .dataframe tbody tr th {\n",
       "        vertical-align: top;\n",
       "    }\n",
       "\n",
       "    .dataframe thead th {\n",
       "        text-align: right;\n",
       "    }\n",
       "</style>\n",
       "<table border=\"1\" class=\"dataframe\">\n",
       "  <thead>\n",
       "    <tr style=\"text-align: right;\">\n",
       "      <th></th>\n",
       "      <th>id_contract</th>\n",
       "      <th>TARGET</th>\n",
       "    </tr>\n",
       "  </thead>\n",
       "  <tbody>\n",
       "    <tr>\n",
       "      <th>0</th>\n",
       "      <td>17892</td>\n",
       "      <td>0.029051</td>\n",
       "    </tr>\n",
       "    <tr>\n",
       "      <th>1</th>\n",
       "      <td>17893</td>\n",
       "      <td>0.072784</td>\n",
       "    </tr>\n",
       "    <tr>\n",
       "      <th>2</th>\n",
       "      <td>17894</td>\n",
       "      <td>0.090004</td>\n",
       "    </tr>\n",
       "    <tr>\n",
       "      <th>3</th>\n",
       "      <td>17895</td>\n",
       "      <td>0.509014</td>\n",
       "    </tr>\n",
       "    <tr>\n",
       "      <th>4</th>\n",
       "      <td>17896</td>\n",
       "      <td>0.767849</td>\n",
       "    </tr>\n",
       "  </tbody>\n",
       "</table>\n",
       "</div>"
      ],
      "text/plain": [
       "   id_contract    TARGET\n",
       "0        17892  0.029051\n",
       "1        17893  0.072784\n",
       "2        17894  0.090004\n",
       "3        17895  0.509014\n",
       "4        17896  0.767849"
      ]
     },
     "execution_count": 258,
     "metadata": {},
     "output_type": "execute_result"
    }
   ],
   "source": [
    "test['TARGET'] = pd.DataFrame(pred).T.mean(axis=1)\n",
    "test[['id_contract', 'TARGET']].to_csv('submit_file_CB_2.csv', sep=';', index=False)\n",
    "test[['id_contract', 'TARGET']].head()"
   ]
  },
  {
   "cell_type": "code",
   "execution_count": 83,
   "id": "6f952254",
   "metadata": {},
   "outputs": [],
   "source": [
    "fi_df={'feature_names':X_test.columns,'feature_importance':RF_T.get_feature_importance()}\n",
    "fi_df = pd.DataFrame(fi_df)\n",
    "fi_df.sort_values(by=['feature_importance'], ascending=False,inplace=True)"
   ]
  },
  {
   "cell_type": "code",
   "execution_count": 88,
   "id": "fea2baf7",
   "metadata": {},
   "outputs": [
    {
     "name": "stderr",
     "output_type": "stream",
     "text": [
      "<ipython-input-88-6526a6797c28>:2: SettingWithCopyWarning: \n",
      "A value is trying to be set on a copy of a slice from a DataFrame.\n",
      "Try using .loc[row_indexer,col_indexer] = value instead\n",
      "\n",
      "See the caveats in the documentation: https://pandas.pydata.org/pandas-docs/stable/user_guide/indexing.html#returning-a-view-versus-a-copy\n",
      "  data_30['sample'] = data['sample'].values\n",
      "<ipython-input-88-6526a6797c28>:3: SettingWithCopyWarning: \n",
      "A value is trying to be set on a copy of a slice from a DataFrame.\n",
      "Try using .loc[row_indexer,col_indexer] = value instead\n",
      "\n",
      "See the caveats in the documentation: https://pandas.pydata.org/pandas-docs/stable/user_guide/indexing.html#returning-a-view-versus-a-copy\n",
      "  data_30['TARGET'] = data['TARGET'].values\n"
     ]
    }
   ],
   "source": [
    "data_30 = data[fi_df['feature_names'][:30].values]\n",
    "data_30['sample'] = data['sample'].values\n",
    "data_30['TARGET'] = data['TARGET'].values\n",
    "data_30.to_csv('30.csv', index=False)"
   ]
  },
  {
   "cell_type": "code",
   "execution_count": null,
   "id": "b08d39d8",
   "metadata": {},
   "outputs": [],
   "source": []
  },
  {
   "cell_type": "code",
   "execution_count": null,
   "id": "37f34711",
   "metadata": {},
   "outputs": [],
   "source": []
  },
  {
   "cell_type": "code",
   "execution_count": null,
   "id": "c5cce8c4",
   "metadata": {},
   "outputs": [],
   "source": []
  },
  {
   "cell_type": "code",
   "execution_count": null,
   "id": "24f0f6f9",
   "metadata": {},
   "outputs": [],
   "source": []
  },
  {
   "cell_type": "code",
   "execution_count": null,
   "id": "8186c325",
   "metadata": {},
   "outputs": [],
   "source": []
  },
  {
   "cell_type": "code",
   "execution_count": null,
   "id": "7ec2340a",
   "metadata": {},
   "outputs": [],
   "source": []
  },
  {
   "cell_type": "code",
   "execution_count": null,
   "id": "2f4df5d8",
   "metadata": {},
   "outputs": [],
   "source": []
  },
  {
   "cell_type": "code",
   "execution_count": 89,
   "id": "7cd02caa",
   "metadata": {},
   "outputs": [
    {
     "ename": "ValueError",
     "evalue": "Input contains NaN, infinity or a value too large for dtype('float64').",
     "output_type": "error",
     "traceback": [
      "\u001b[0;31m---------------------------------------------------------------------------\u001b[0m",
      "\u001b[0;31mValueError\u001b[0m                                Traceback (most recent call last)",
      "\u001b[0;32m<ipython-input-89-a35882c53da7>\u001b[0m in \u001b[0;36m<module>\u001b[0;34m\u001b[0m\n\u001b[0;32m----> 1\u001b[0;31m \u001b[0mkmeans_model\u001b[0m \u001b[0;34m=\u001b[0m \u001b[0mKMeans\u001b[0m\u001b[0;34m(\u001b[0m\u001b[0mn_clusters\u001b[0m\u001b[0;34m=\u001b[0m\u001b[0;36m10\u001b[0m\u001b[0;34m)\u001b[0m\u001b[0;34m.\u001b[0m\u001b[0mfit\u001b[0m\u001b[0;34m(\u001b[0m\u001b[0mdata\u001b[0m\u001b[0;34m)\u001b[0m\u001b[0;34m\u001b[0m\u001b[0;34m\u001b[0m\u001b[0m\n\u001b[0m",
      "\u001b[0;32m~/anaconda3/lib/python3.8/site-packages/sklearn/cluster/_kmeans.py\u001b[0m in \u001b[0;36mfit\u001b[0;34m(self, X, y, sample_weight)\u001b[0m\n\u001b[1;32m    977\u001b[0m             \u001b[0mFitted\u001b[0m \u001b[0mestimator\u001b[0m\u001b[0;34m.\u001b[0m\u001b[0;34m\u001b[0m\u001b[0;34m\u001b[0m\u001b[0m\n\u001b[1;32m    978\u001b[0m         \"\"\"\n\u001b[0;32m--> 979\u001b[0;31m         X = self._validate_data(X, accept_sparse='csr',\n\u001b[0m\u001b[1;32m    980\u001b[0m                                 \u001b[0mdtype\u001b[0m\u001b[0;34m=\u001b[0m\u001b[0;34m[\u001b[0m\u001b[0mnp\u001b[0m\u001b[0;34m.\u001b[0m\u001b[0mfloat64\u001b[0m\u001b[0;34m,\u001b[0m \u001b[0mnp\u001b[0m\u001b[0;34m.\u001b[0m\u001b[0mfloat32\u001b[0m\u001b[0;34m]\u001b[0m\u001b[0;34m,\u001b[0m\u001b[0;34m\u001b[0m\u001b[0;34m\u001b[0m\u001b[0m\n\u001b[1;32m    981\u001b[0m                                 \u001b[0morder\u001b[0m\u001b[0;34m=\u001b[0m\u001b[0;34m'C'\u001b[0m\u001b[0;34m,\u001b[0m \u001b[0mcopy\u001b[0m\u001b[0;34m=\u001b[0m\u001b[0mself\u001b[0m\u001b[0;34m.\u001b[0m\u001b[0mcopy_x\u001b[0m\u001b[0;34m,\u001b[0m\u001b[0;34m\u001b[0m\u001b[0;34m\u001b[0m\u001b[0m\n",
      "\u001b[0;32m~/anaconda3/lib/python3.8/site-packages/sklearn/base.py\u001b[0m in \u001b[0;36m_validate_data\u001b[0;34m(self, X, y, reset, validate_separately, **check_params)\u001b[0m\n\u001b[1;32m    419\u001b[0m             \u001b[0mout\u001b[0m \u001b[0;34m=\u001b[0m \u001b[0mX\u001b[0m\u001b[0;34m\u001b[0m\u001b[0;34m\u001b[0m\u001b[0m\n\u001b[1;32m    420\u001b[0m         \u001b[0;32melif\u001b[0m \u001b[0misinstance\u001b[0m\u001b[0;34m(\u001b[0m\u001b[0my\u001b[0m\u001b[0;34m,\u001b[0m \u001b[0mstr\u001b[0m\u001b[0;34m)\u001b[0m \u001b[0;32mand\u001b[0m \u001b[0my\u001b[0m \u001b[0;34m==\u001b[0m \u001b[0;34m'no_validation'\u001b[0m\u001b[0;34m:\u001b[0m\u001b[0;34m\u001b[0m\u001b[0;34m\u001b[0m\u001b[0m\n\u001b[0;32m--> 421\u001b[0;31m             \u001b[0mX\u001b[0m \u001b[0;34m=\u001b[0m \u001b[0mcheck_array\u001b[0m\u001b[0;34m(\u001b[0m\u001b[0mX\u001b[0m\u001b[0;34m,\u001b[0m \u001b[0;34m**\u001b[0m\u001b[0mcheck_params\u001b[0m\u001b[0;34m)\u001b[0m\u001b[0;34m\u001b[0m\u001b[0;34m\u001b[0m\u001b[0m\n\u001b[0m\u001b[1;32m    422\u001b[0m             \u001b[0mout\u001b[0m \u001b[0;34m=\u001b[0m \u001b[0mX\u001b[0m\u001b[0;34m\u001b[0m\u001b[0;34m\u001b[0m\u001b[0m\n\u001b[1;32m    423\u001b[0m         \u001b[0;32melse\u001b[0m\u001b[0;34m:\u001b[0m\u001b[0;34m\u001b[0m\u001b[0;34m\u001b[0m\u001b[0m\n",
      "\u001b[0;32m~/anaconda3/lib/python3.8/site-packages/sklearn/utils/validation.py\u001b[0m in \u001b[0;36minner_f\u001b[0;34m(*args, **kwargs)\u001b[0m\n\u001b[1;32m     61\u001b[0m             \u001b[0mextra_args\u001b[0m \u001b[0;34m=\u001b[0m \u001b[0mlen\u001b[0m\u001b[0;34m(\u001b[0m\u001b[0margs\u001b[0m\u001b[0;34m)\u001b[0m \u001b[0;34m-\u001b[0m \u001b[0mlen\u001b[0m\u001b[0;34m(\u001b[0m\u001b[0mall_args\u001b[0m\u001b[0;34m)\u001b[0m\u001b[0;34m\u001b[0m\u001b[0;34m\u001b[0m\u001b[0m\n\u001b[1;32m     62\u001b[0m             \u001b[0;32mif\u001b[0m \u001b[0mextra_args\u001b[0m \u001b[0;34m<=\u001b[0m \u001b[0;36m0\u001b[0m\u001b[0;34m:\u001b[0m\u001b[0;34m\u001b[0m\u001b[0;34m\u001b[0m\u001b[0m\n\u001b[0;32m---> 63\u001b[0;31m                 \u001b[0;32mreturn\u001b[0m \u001b[0mf\u001b[0m\u001b[0;34m(\u001b[0m\u001b[0;34m*\u001b[0m\u001b[0margs\u001b[0m\u001b[0;34m,\u001b[0m \u001b[0;34m**\u001b[0m\u001b[0mkwargs\u001b[0m\u001b[0;34m)\u001b[0m\u001b[0;34m\u001b[0m\u001b[0;34m\u001b[0m\u001b[0m\n\u001b[0m\u001b[1;32m     64\u001b[0m \u001b[0;34m\u001b[0m\u001b[0m\n\u001b[1;32m     65\u001b[0m             \u001b[0;31m# extra_args > 0\u001b[0m\u001b[0;34m\u001b[0m\u001b[0;34m\u001b[0m\u001b[0;34m\u001b[0m\u001b[0m\n",
      "\u001b[0;32m~/anaconda3/lib/python3.8/site-packages/sklearn/utils/validation.py\u001b[0m in \u001b[0;36mcheck_array\u001b[0;34m(array, accept_sparse, accept_large_sparse, dtype, order, copy, force_all_finite, ensure_2d, allow_nd, ensure_min_samples, ensure_min_features, estimator)\u001b[0m\n\u001b[1;32m    661\u001b[0m \u001b[0;34m\u001b[0m\u001b[0m\n\u001b[1;32m    662\u001b[0m         \u001b[0;32mif\u001b[0m \u001b[0mforce_all_finite\u001b[0m\u001b[0;34m:\u001b[0m\u001b[0;34m\u001b[0m\u001b[0;34m\u001b[0m\u001b[0m\n\u001b[0;32m--> 663\u001b[0;31m             _assert_all_finite(array,\n\u001b[0m\u001b[1;32m    664\u001b[0m                                allow_nan=force_all_finite == 'allow-nan')\n\u001b[1;32m    665\u001b[0m \u001b[0;34m\u001b[0m\u001b[0m\n",
      "\u001b[0;32m~/anaconda3/lib/python3.8/site-packages/sklearn/utils/validation.py\u001b[0m in \u001b[0;36m_assert_all_finite\u001b[0;34m(X, allow_nan, msg_dtype)\u001b[0m\n\u001b[1;32m    101\u001b[0m                 not allow_nan and not np.isfinite(X).all()):\n\u001b[1;32m    102\u001b[0m             \u001b[0mtype_err\u001b[0m \u001b[0;34m=\u001b[0m \u001b[0;34m'infinity'\u001b[0m \u001b[0;32mif\u001b[0m \u001b[0mallow_nan\u001b[0m \u001b[0;32melse\u001b[0m \u001b[0;34m'NaN, infinity'\u001b[0m\u001b[0;34m\u001b[0m\u001b[0;34m\u001b[0m\u001b[0m\n\u001b[0;32m--> 103\u001b[0;31m             raise ValueError(\n\u001b[0m\u001b[1;32m    104\u001b[0m                     \u001b[0mmsg_err\u001b[0m\u001b[0;34m.\u001b[0m\u001b[0mformat\u001b[0m\u001b[0;34m\u001b[0m\u001b[0;34m\u001b[0m\u001b[0m\n\u001b[1;32m    105\u001b[0m                     (type_err,\n",
      "\u001b[0;31mValueError\u001b[0m: Input contains NaN, infinity or a value too large for dtype('float64')."
     ]
    }
   ],
   "source": [
    "kmeans_model = KMeans(n_clusters=10).fit(data)"
   ]
  },
  {
   "cell_type": "code",
   "execution_count": 230,
   "id": "cc722739",
   "metadata": {},
   "outputs": [
    {
     "data": {
      "text/plain": [
       "IsolationForest(contamination=0.1)"
      ]
     },
     "execution_count": 230,
     "metadata": {},
     "output_type": "execute_result"
    }
   ],
   "source": [
    "model=IsolationForest(n_estimators=100, max_samples='auto', contamination=float(0.1),max_features=1.0)\n",
    "model.fit(data[['SIGN_DATE_days_in_month']])"
   ]
  },
  {
   "cell_type": "code",
   "execution_count": 231,
   "id": "aff6023a",
   "metadata": {},
   "outputs": [
    {
     "data": {
      "text/plain": [
       "array([0.03229011, 0.03229011, 0.03229011, ..., 0.03229011, 0.03229011,\n",
       "       0.03229011])"
      ]
     },
     "execution_count": 231,
     "metadata": {},
     "output_type": "execute_result"
    }
   ],
   "source": [
    "model.decision_function(data[['SIGN_DATE_days_in_month']])"
   ]
  },
  {
   "cell_type": "code",
   "execution_count": 232,
   "id": "775e1256",
   "metadata": {},
   "outputs": [
    {
     "data": {
      "text/plain": [
       "23203"
      ]
     },
     "execution_count": 232,
     "metadata": {},
     "output_type": "execute_result"
    }
   ],
   "source": [
    "sum(model.predict(data[['SIGN_DATE_days_in_month']]) > 0)"
   ]
  },
  {
   "cell_type": "code",
   "execution_count": 224,
   "id": "24e4fe0a",
   "metadata": {},
   "outputs": [
    {
     "ename": "ValueError",
     "evalue": "method must be either 'pearson', 'spearman', 'kendall', or a callable, 'TARGET' was supplied",
     "output_type": "error",
     "traceback": [
      "\u001b[0;31m---------------------------------------------------------------------------\u001b[0m",
      "\u001b[0;31mValueError\u001b[0m                                Traceback (most recent call last)",
      "\u001b[0;32m<ipython-input-224-686aab7e9f1a>\u001b[0m in \u001b[0;36m<module>\u001b[0;34m\u001b[0m\n\u001b[0;32m----> 1\u001b[0;31m \u001b[0mdata\u001b[0m\u001b[0;34m.\u001b[0m\u001b[0mcorr\u001b[0m\u001b[0;34m(\u001b[0m\u001b[0;34m'TARGET'\u001b[0m\u001b[0;34m,\u001b[0m \u001b[0mmodel\u001b[0m\u001b[0;34m.\u001b[0m\u001b[0mpredict\u001b[0m\u001b[0;34m(\u001b[0m\u001b[0mdata\u001b[0m\u001b[0;34m)\u001b[0m \u001b[0;34m>\u001b[0m \u001b[0;36m0\u001b[0m\u001b[0;34m)\u001b[0m\u001b[0;34m\u001b[0m\u001b[0;34m\u001b[0m\u001b[0m\n\u001b[0m",
      "\u001b[0;32m~/anaconda3/lib/python3.8/site-packages/pandas/core/frame.py\u001b[0m in \u001b[0;36mcorr\u001b[0;34m(self, method, min_periods)\u001b[0m\n\u001b[1;32m   8404\u001b[0m                     \u001b[0mcorrel\u001b[0m\u001b[0;34m[\u001b[0m\u001b[0mj\u001b[0m\u001b[0;34m,\u001b[0m \u001b[0mi\u001b[0m\u001b[0;34m]\u001b[0m \u001b[0;34m=\u001b[0m \u001b[0mc\u001b[0m\u001b[0;34m\u001b[0m\u001b[0;34m\u001b[0m\u001b[0m\n\u001b[1;32m   8405\u001b[0m         \u001b[0;32melse\u001b[0m\u001b[0;34m:\u001b[0m\u001b[0;34m\u001b[0m\u001b[0;34m\u001b[0m\u001b[0m\n\u001b[0;32m-> 8406\u001b[0;31m             raise ValueError(\n\u001b[0m\u001b[1;32m   8407\u001b[0m                 \u001b[0;34m\"method must be either 'pearson', \"\u001b[0m\u001b[0;34m\u001b[0m\u001b[0;34m\u001b[0m\u001b[0m\n\u001b[1;32m   8408\u001b[0m                 \u001b[0;34m\"'spearman', 'kendall', or a callable, \"\u001b[0m\u001b[0;34m\u001b[0m\u001b[0;34m\u001b[0m\u001b[0m\n",
      "\u001b[0;31mValueError\u001b[0m: method must be either 'pearson', 'spearman', 'kendall', or a callable, 'TARGET' was supplied"
     ]
    }
   ],
   "source": [
    "data.corr('TARGET', model.predict(data) > 0)"
   ]
  },
  {
   "cell_type": "code",
   "execution_count": 227,
   "id": "94ad5451",
   "metadata": {},
   "outputs": [
    {
     "data": {
      "text/plain": [
       "0.09543511878182737"
      ]
     },
     "execution_count": 227,
     "metadata": {},
     "output_type": "execute_result"
    }
   ],
   "source": [
    "data['TARGET'].corr(pd.Series(model.predict(data) > 0))"
   ]
  },
  {
   "cell_type": "code",
   "execution_count": null,
   "id": "2129849b",
   "metadata": {},
   "outputs": [],
   "source": []
  }
 ],
 "metadata": {
  "kernelspec": {
   "display_name": "Python 3 (ipykernel)",
   "language": "python",
   "name": "python3"
  },
  "language_info": {
   "codemirror_mode": {
    "name": "ipython",
    "version": 3
   },
   "file_extension": ".py",
   "mimetype": "text/x-python",
   "name": "python",
   "nbconvert_exporter": "python",
   "pygments_lexer": "ipython3",
   "version": "3.8.8"
  }
 },
 "nbformat": 4,
 "nbformat_minor": 5
}
