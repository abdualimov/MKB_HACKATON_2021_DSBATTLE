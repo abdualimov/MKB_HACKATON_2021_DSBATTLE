{
 "cells": [
  {
   "cell_type": "code",
   "execution_count": 1,
   "id": "b9d1c145",
   "metadata": {},
   "outputs": [],
   "source": [
    "import pandas as pd\n",
    "pd.set_option('display.max_rows', 500)\n",
    "import numpy as np\n",
    "\n",
    "import matplotlib.pyplot as plt\n",
    "import matplotlib.mlab as mlab\n",
    "import matplotlib\n",
    "from matplotlib.pyplot import figure\n",
    "import seaborn as sns\n",
    "\n",
    "%matplotlib inline\n",
    "matplotlib.rcParams['figure.figsize'] = (12,8)\n",
    "from sklearn.preprocessing import LabelEncoder\n",
    "from sklearn.impute import KNNImputer\n",
    "from sklearn.model_selection import train_test_split\n",
    "from sklearn.model_selection import KFold\n",
    "from sklearn.metrics import roc_auc_score, confusion_matrix, roc_curve, accuracy_score, f1_score, precision_score, recall_score\n",
    "from sklearn.ensemble import RandomForestClassifier\n",
    "from sklearn.ensemble import BaggingClassifier\n",
    "from sklearn.tree import DecisionTreeClassifier\n",
    "from sklearn.tree import ExtraTreeClassifier\n",
    "from sklearn.neighbors import KNeighborsClassifier\n",
    "from sklearn import svm\n",
    "from sklearn.preprocessing import RobustScaler\n",
    "from sklearn.naive_bayes import GaussianNB\n",
    "from sklearn.preprocessing import MinMaxScaler\n",
    "from sklearn.metrics import confusion_matrix\n",
    "from sklearn.linear_model import LogisticRegression\n",
    "from sklearn.ensemble import RandomForestRegressor\n",
    "from sklearn.model_selection import cross_val_score\n",
    "from sklearn.metrics import classification_report\n",
    "from sklearn.linear_model import LinearRegression\n",
    "\n",
    "from catboost import CatBoostClassifier\n",
    "from category_encoders import TargetEncoder\n",
    "\n",
    "import lightgbm as lgb\n",
    "from sklearn.cluster import KMeans\n",
    "from sklearn.ensemble import IsolationForest\n",
    "\n",
    "from tqdm import tqdm\n",
    "\n",
    "from category_encoders import TargetEncoder\n",
    "\n",
    "from pytorch_tabnet.tab_model import TabNetClassifier\n",
    "import torch"
   ]
  },
  {
   "cell_type": "code",
   "execution_count": 59,
   "id": "7d4ac32f",
   "metadata": {},
   "outputs": [],
   "source": [
    "data = pd.read_csv('data_prepared_to_AI_11')\n",
    "test = pd.read_csv('test_dataset_hackathon_mkb.csv', sep=';', encoding='cp1251')"
   ]
  },
  {
   "cell_type": "code",
   "execution_count": 78,
   "id": "7641cd15",
   "metadata": {},
   "outputs": [],
   "source": [
    "train_data = data.query('sample == 1').drop(['sample'], axis=1)\n",
    "test_data = data.query('sample == 0').drop(['sample'], axis=1)\n",
    "test_data = test_data.drop(['TARGET'], axis=1)\n",
    "#train_data = train_data.drop_duplicates(subset = [i for i in train_data.columns if i != 'id_contract']).reset_index(drop=True)\n",
    "\n",
    "y = train_data['TARGET'].values            \n",
    "X = train_data.drop(['TARGET'], axis=1)"
   ]
  },
  {
   "cell_type": "code",
   "execution_count": 79,
   "id": "3faf80e0",
   "metadata": {},
   "outputs": [],
   "source": [
    "scaler = MinMaxScaler(feature_range=(0, 1))\n",
    "scaler.fit(X)\n",
    "data_train = scaler.transform(X)\n",
    "data_test = scaler.transform(test_data)\n",
    "#X_train, (X_test), y_train, y_test = train_test_split(data_train, train_data_y, test_size=0.2, random_state=13)\n",
    "X_train, X_test, y_train, y_test = data_train[:14000,], data_train[14000:,], y[:14000,], y[14000:,]"
   ]
  },
  {
   "cell_type": "code",
   "execution_count": 80,
   "id": "f2fff81e",
   "metadata": {},
   "outputs": [],
   "source": [
    "X_train = X_train\n",
    "y_train = y_train.squeeze()\n",
    "X_test  = X_test"
   ]
  },
  {
   "cell_type": "code",
   "execution_count": 84,
   "id": "ef812247",
   "metadata": {},
   "outputs": [
    {
     "name": "stdout",
     "output_type": "stream",
     "text": [
      "Device used : cuda\n",
      "epoch 0  | loss: 0.86959 | val_0_auc: 0.6879  |  0:00:00s\n",
      "epoch 1  | loss: 0.67186 | val_0_auc: 0.58743 |  0:00:01s\n",
      "epoch 2  | loss: 0.60403 | val_0_auc: 0.73742 |  0:00:02s\n",
      "epoch 3  | loss: 0.5273  | val_0_auc: 0.85056 |  0:00:03s\n",
      "epoch 4  | loss: 0.47781 | val_0_auc: 0.88166 |  0:00:04s\n",
      "epoch 5  | loss: 0.44434 | val_0_auc: 0.87845 |  0:00:05s\n",
      "epoch 6  | loss: 0.41523 | val_0_auc: 0.87387 |  0:00:06s\n",
      "epoch 7  | loss: 0.38727 | val_0_auc: 0.84222 |  0:00:07s\n",
      "epoch 8  | loss: 0.36425 | val_0_auc: 0.89117 |  0:00:07s\n",
      "epoch 9  | loss: 0.33923 | val_0_auc: 0.8466  |  0:00:08s\n",
      "epoch 10 | loss: 0.31304 | val_0_auc: 0.88142 |  0:00:09s\n",
      "epoch 11 | loss: 0.2871  | val_0_auc: 0.91012 |  0:00:10s\n",
      "epoch 12 | loss: 0.26024 | val_0_auc: 0.92513 |  0:00:11s\n",
      "epoch 13 | loss: 0.24706 | val_0_auc: 0.92311 |  0:00:11s\n",
      "epoch 14 | loss: 0.23463 | val_0_auc: 0.91959 |  0:00:12s\n",
      "epoch 15 | loss: 0.22386 | val_0_auc: 0.9152  |  0:00:13s\n",
      "epoch 16 | loss: 0.21132 | val_0_auc: 0.9249  |  0:00:14s\n",
      "epoch 17 | loss: 0.20271 | val_0_auc: 0.92588 |  0:00:15s\n",
      "epoch 18 | loss: 0.19499 | val_0_auc: 0.91053 |  0:00:16s\n",
      "epoch 19 | loss: 0.18265 | val_0_auc: 0.9278  |  0:00:16s\n",
      "epoch 20 | loss: 0.17841 | val_0_auc: 0.91395 |  0:00:17s\n",
      "epoch 21 | loss: 0.16832 | val_0_auc: 0.91758 |  0:00:18s\n",
      "epoch 22 | loss: 0.16399 | val_0_auc: 0.91607 |  0:00:19s\n",
      "epoch 23 | loss: 0.1595  | val_0_auc: 0.92345 |  0:00:20s\n",
      "epoch 24 | loss: 0.16349 | val_0_auc: 0.9236  |  0:00:21s\n",
      "\n",
      "Early stopping occurred at epoch 24 with best_epoch = 19 and best_val_0_auc = 0.9278\n",
      "Best weights from best epoch are automatically used!\n"
     ]
    }
   ],
   "source": [
    "classifier = TabNetClassifier(verbose=1,seed=42)\n",
    "classifier.fit(X_train=X_train, y_train=y_train, eval_set=[(X_test, y_test)], patience=5)\n",
    "\n",
    "predictions = classifier.predict_proba(X_test)[:,1]"
   ]
  },
  {
   "cell_type": "code",
   "execution_count": 82,
   "id": "c018d20d",
   "metadata": {},
   "outputs": [],
   "source": []
  },
  {
   "cell_type": "code",
   "execution_count": null,
   "id": "07fae188",
   "metadata": {},
   "outputs": [],
   "source": [
    "fpr, tpr, _ = roc_curve(y_test, test_pred)\n",
    "auc = roc_auc_score(y_test, test_pred)\n",
    "accuracy = accuracy_score(y_test, test_pred_bin)\n",
    "f1 = f1_score(y_test, test_pred_bin)\n",
    "precision =  precision_score(y_test, test_pred_bin)\n",
    "recall = recall_score(y_test, test_pred_bin)\n",
    "\n",
    "print('FP, TP              :', \"%0.2f\" % sum(fpr), \"%0.2f\" % sum(tpr))\n",
    "print('ROC_AUC_SCORE       :', \"%0.2f\" % auc)\n",
    "print('accuracy            :', \"%0.2f\" % accuracy)\n",
    "print('precision           :', \"%0.2f\" % precision)\n",
    "print('recall              :', \"%0.2f\" % recall)\n",
    "print('f1                  :', \"%0.2f\" % f1)\n",
    "\n",
    "print('val, train  AUC     :', \"%0.2f\" % roc_auc_score(y_test, test_pred), \"%0.2f\" % roc_auc_score(y_train, RF.predict_proba(X_train)[:,1]))\n",
    "print('val, train  AUC_2   :', \"%0.2f\" % roc_auc_score(y_test, test_pred_bin), \"%0.2f\" % roc_auc_score(y_train, RF.predict(X_train)))\n",
    "print(confusion_matrix(y_test, test_pred_bin))\n",
    "print(classification_report(y_test, RF.predict(X_test)))"
   ]
  },
  {
   "cell_type": "code",
   "execution_count": 85,
   "id": "ff43a6fe",
   "metadata": {},
   "outputs": [
    {
     "name": "stdout",
     "output_type": "stream",
     "text": [
      "              precision    recall  f1-score   support\n",
      "\n",
      "           0       0.82      0.95      0.88      2497\n",
      "           1       0.88      0.63      0.74      1394\n",
      "\n",
      "    accuracy                           0.84      3891\n",
      "   macro avg       0.85      0.79      0.81      3891\n",
      "weighted avg       0.84      0.84      0.83      3891\n",
      "\n",
      "[[2374  123]\n",
      " [ 512  882]]\n"
     ]
    }
   ],
   "source": [
    "predictions_bin = classifier.predict(X_test)\n",
    "print(classification_report(y_test, predictions_bin))\n",
    "print(confusion_matrix(y_test, predictions_bin))"
   ]
  },
  {
   "cell_type": "code",
   "execution_count": 77,
   "id": "94883b56",
   "metadata": {},
   "outputs": [
    {
     "data": {
      "text/plain": [
       "0.9278038955211102"
      ]
     },
     "execution_count": 77,
     "metadata": {},
     "output_type": "execute_result"
    }
   ],
   "source": [
    "roc_auc_score(y_test, predictions)"
   ]
  },
  {
   "cell_type": "code",
   "execution_count": 56,
   "id": "24340145",
   "metadata": {},
   "outputs": [
    {
     "data": {
      "text/plain": [
       "(3891,)"
      ]
     },
     "execution_count": 56,
     "metadata": {},
     "output_type": "execute_result"
    }
   ],
   "source": [
    "y_test.shape"
   ]
  },
  {
   "cell_type": "code",
   "execution_count": 57,
   "id": "12d51848",
   "metadata": {},
   "outputs": [
    {
     "name": "stdout",
     "output_type": "stream",
     "text": [
      "[[1363 1134]\n",
      " [ 331 1063]]\n"
     ]
    }
   ],
   "source": [
    "print(confusion_matrix(y_test, np.argmax(predictions_bin, axis=-1)))"
   ]
  },
  {
   "cell_type": "code",
   "execution_count": 67,
   "id": "674474fd",
   "metadata": {},
   "outputs": [
    {
     "data": {
      "text/plain": [
       "array([0, 0, 0, ..., 0, 0, 1])"
      ]
     },
     "execution_count": 67,
     "metadata": {},
     "output_type": "execute_result"
    }
   ],
   "source": [
    "y_train"
   ]
  },
  {
   "cell_type": "code",
   "execution_count": 71,
   "id": "9055e0ef",
   "metadata": {},
   "outputs": [
    {
     "data": {
      "text/plain": [
       "array([1, 1, 0, ..., 0, 0, 0])"
      ]
     },
     "execution_count": 71,
     "metadata": {},
     "output_type": "execute_result"
    }
   ],
   "source": [
    "predictions_bin"
   ]
  },
  {
   "cell_type": "code",
   "execution_count": null,
   "id": "339b0e69",
   "metadata": {},
   "outputs": [],
   "source": []
  }
 ],
 "metadata": {
  "kernelspec": {
   "display_name": "Python 3 (ipykernel)",
   "language": "python",
   "name": "python3"
  },
  "language_info": {
   "codemirror_mode": {
    "name": "ipython",
    "version": 3
   },
   "file_extension": ".py",
   "mimetype": "text/x-python",
   "name": "python",
   "nbconvert_exporter": "python",
   "pygments_lexer": "ipython3",
   "version": "3.8.8"
  }
 },
 "nbformat": 4,
 "nbformat_minor": 5
}
