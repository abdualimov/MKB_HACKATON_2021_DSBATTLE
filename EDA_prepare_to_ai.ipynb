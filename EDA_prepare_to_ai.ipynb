{
 "cells": [
  {
   "cell_type": "code",
   "execution_count": null,
   "id": "115a7619",
   "metadata": {},
   "outputs": [],
   "source": [
    "# -----------------------------------------------------\n",
    "# Auhor: Timur Abdualimov, ATP\n",
    "# Competition: MKB \n",
    "# First date code: 10.11.2021\n",
    "# Used: Jupyter Notebook, GPU\n",
    "# -----------------------------------------------------"
   ]
  },
  {
   "cell_type": "code",
   "execution_count": 1,
   "id": "52c4330e",
   "metadata": {},
   "outputs": [],
   "source": [
    "import pandas as pd\n",
    "import numpy as np\n",
    "\n",
    "import matplotlib.pyplot as plt\n",
    "import matplotlib.mlab as mlab\n",
    "import matplotlib\n",
    "from matplotlib.pyplot import figure\n",
    "import seaborn as sns\n",
    "\n",
    "%matplotlib inline\n",
    "matplotlib.rcParams['figure.figsize'] = (12,8)\n",
    "\n",
    "from sklearn.preprocessing import LabelEncoder\n",
    "from sklearn.impute import KNNImputer"
   ]
  },
  {
   "cell_type": "code",
   "execution_count": 2,
   "id": "62519bce",
   "metadata": {},
   "outputs": [],
   "source": [
    "train, test = pd.read_csv('train_dataset_hackathon_mkb.csv', sep=';', encoding='cp1251'), pd.read_csv('test_dataset_hackathon_mkb.csv', sep=';', encoding='cp1251')"
   ]
  },
  {
   "cell_type": "code",
   "execution_count": 3,
   "id": "e7317b3d",
   "metadata": {},
   "outputs": [
    {
     "data": {
      "text/html": [
       "<div>\n",
       "<style scoped>\n",
       "    .dataframe tbody tr th:only-of-type {\n",
       "        vertical-align: middle;\n",
       "    }\n",
       "\n",
       "    .dataframe tbody tr th {\n",
       "        vertical-align: top;\n",
       "    }\n",
       "\n",
       "    .dataframe thead tr th {\n",
       "        text-align: left;\n",
       "    }\n",
       "</style>\n",
       "<table border=\"1\" class=\"dataframe\">\n",
       "  <thead>\n",
       "    <tr>\n",
       "      <th></th>\n",
       "      <th colspan=\"4\" halign=\"left\">↓ ОБУЧАЮЩАЯ ВЫБОРКА ↓ (17891, 124)</th>\n",
       "      <th colspan=\"4\" halign=\"left\">↓ ТЕСТОВАЯ ВЫБОРКА ↓ (7330, 123)</th>\n",
       "    </tr>\n",
       "    <tr>\n",
       "      <th></th>\n",
       "      <th>dtypes</th>\n",
       "      <th>nunique</th>\n",
       "      <th>isna</th>\n",
       "      <th>loc[0]</th>\n",
       "      <th>dtypes</th>\n",
       "      <th>nunique</th>\n",
       "      <th>isna</th>\n",
       "      <th>loc[0]</th>\n",
       "    </tr>\n",
       "  </thead>\n",
       "  <tbody>\n",
       "    <tr>\n",
       "      <th>id_contract</th>\n",
       "      <td>int64</td>\n",
       "      <td>17891</td>\n",
       "      <td>0</td>\n",
       "      <td>1</td>\n",
       "      <td>int64</td>\n",
       "      <td>7330.0</td>\n",
       "      <td>0.0</td>\n",
       "      <td>17892</td>\n",
       "    </tr>\n",
       "    <tr>\n",
       "      <th>id_client</th>\n",
       "      <td>int64</td>\n",
       "      <td>8922</td>\n",
       "      <td>0</td>\n",
       "      <td>1847</td>\n",
       "      <td>int64</td>\n",
       "      <td>4761.0</td>\n",
       "      <td>0.0</td>\n",
       "      <td>3620</td>\n",
       "    </tr>\n",
       "    <tr>\n",
       "      <th>SIGN_DATE</th>\n",
       "      <td>object</td>\n",
       "      <td>439</td>\n",
       "      <td>0</td>\n",
       "      <td>01JAN2018:00:00:00</td>\n",
       "      <td>object</td>\n",
       "      <td>248.0</td>\n",
       "      <td>0.0</td>\n",
       "      <td>08APR2019:00:00:00</td>\n",
       "    </tr>\n",
       "    <tr>\n",
       "      <th>IP_flag</th>\n",
       "      <td>int64</td>\n",
       "      <td>2</td>\n",
       "      <td>0</td>\n",
       "      <td>0</td>\n",
       "      <td>int64</td>\n",
       "      <td>2.0</td>\n",
       "      <td>0.0</td>\n",
       "      <td>1</td>\n",
       "    </tr>\n",
       "    <tr>\n",
       "      <th>TARGET</th>\n",
       "      <td>int64</td>\n",
       "      <td>2</td>\n",
       "      <td>0</td>\n",
       "      <td>0</td>\n",
       "      <td>NaN</td>\n",
       "      <td>NaN</td>\n",
       "      <td>NaN</td>\n",
       "      <td>NaN</td>\n",
       "    </tr>\n",
       "    <tr>\n",
       "      <th>...</th>\n",
       "      <td>...</td>\n",
       "      <td>...</td>\n",
       "      <td>...</td>\n",
       "      <td>...</td>\n",
       "      <td>...</td>\n",
       "      <td>...</td>\n",
       "      <td>...</td>\n",
       "      <td>...</td>\n",
       "    </tr>\n",
       "    <tr>\n",
       "      <th>COUNT_CHANGE_EVER</th>\n",
       "      <td>float64</td>\n",
       "      <td>16</td>\n",
       "      <td>16382</td>\n",
       "      <td>NaN</td>\n",
       "      <td>float64</td>\n",
       "      <td>13.0</td>\n",
       "      <td>6843.0</td>\n",
       "      <td>NaN</td>\n",
       "    </tr>\n",
       "    <tr>\n",
       "      <th>BIRTHDATE</th>\n",
       "      <td>object</td>\n",
       "      <td>844</td>\n",
       "      <td>16472</td>\n",
       "      <td>NaN</td>\n",
       "      <td>object</td>\n",
       "      <td>485.0</td>\n",
       "      <td>6715.0</td>\n",
       "      <td>NaN</td>\n",
       "    </tr>\n",
       "    <tr>\n",
       "      <th>AGE</th>\n",
       "      <td>float64</td>\n",
       "      <td>54</td>\n",
       "      <td>16472</td>\n",
       "      <td>NaN</td>\n",
       "      <td>float64</td>\n",
       "      <td>50.0</td>\n",
       "      <td>6715.0</td>\n",
       "      <td>NaN</td>\n",
       "    </tr>\n",
       "    <tr>\n",
       "      <th>SEX_NAME</th>\n",
       "      <td>object</td>\n",
       "      <td>2</td>\n",
       "      <td>15723</td>\n",
       "      <td>NaN</td>\n",
       "      <td>object</td>\n",
       "      <td>2.0</td>\n",
       "      <td>5896.0</td>\n",
       "      <td>NaN</td>\n",
       "    </tr>\n",
       "    <tr>\n",
       "      <th>CITIZENSHIP_NAME</th>\n",
       "      <td>object</td>\n",
       "      <td>4</td>\n",
       "      <td>15763</td>\n",
       "      <td>NaN</td>\n",
       "      <td>object</td>\n",
       "      <td>4.0</td>\n",
       "      <td>5899.0</td>\n",
       "      <td>NaN</td>\n",
       "    </tr>\n",
       "  </tbody>\n",
       "</table>\n",
       "<p>124 rows × 8 columns</p>\n",
       "</div>"
      ],
      "text/plain": [
       "                  ↓ ОБУЧАЮЩАЯ ВЫБОРКА ↓ (17891, 124)                 \\\n",
       "                                              dtypes nunique   isna   \n",
       "id_contract                                    int64   17891      0   \n",
       "id_client                                      int64    8922      0   \n",
       "SIGN_DATE                                     object     439      0   \n",
       "IP_flag                                        int64       2      0   \n",
       "TARGET                                         int64       2      0   \n",
       "...                                              ...     ...    ...   \n",
       "COUNT_CHANGE_EVER                            float64      16  16382   \n",
       "BIRTHDATE                                     object     844  16472   \n",
       "AGE                                          float64      54  16472   \n",
       "SEX_NAME                                      object       2  15723   \n",
       "CITIZENSHIP_NAME                              object       4  15763   \n",
       "\n",
       "                                      ↓ ТЕСТОВАЯ ВЫБОРКА ↓ (7330, 123)  \\\n",
       "                               loc[0]                           dtypes   \n",
       "id_contract                         1                            int64   \n",
       "id_client                        1847                            int64   \n",
       "SIGN_DATE          01JAN2018:00:00:00                           object   \n",
       "IP_flag                             0                            int64   \n",
       "TARGET                              0                              NaN   \n",
       "...                               ...                              ...   \n",
       "COUNT_CHANGE_EVER                 NaN                          float64   \n",
       "BIRTHDATE                         NaN                           object   \n",
       "AGE                               NaN                          float64   \n",
       "SEX_NAME                          NaN                           object   \n",
       "CITIZENSHIP_NAME                  NaN                           object   \n",
       "\n",
       "                                                       \n",
       "                  nunique    isna              loc[0]  \n",
       "id_contract        7330.0     0.0               17892  \n",
       "id_client          4761.0     0.0                3620  \n",
       "SIGN_DATE           248.0     0.0  08APR2019:00:00:00  \n",
       "IP_flag               2.0     0.0                   1  \n",
       "TARGET                NaN     NaN                 NaN  \n",
       "...                   ...     ...                 ...  \n",
       "COUNT_CHANGE_EVER    13.0  6843.0                 NaN  \n",
       "BIRTHDATE           485.0  6715.0                 NaN  \n",
       "AGE                  50.0  6715.0                 NaN  \n",
       "SEX_NAME              2.0  5896.0                 NaN  \n",
       "CITIZENSHIP_NAME      4.0  5899.0                 NaN  \n",
       "\n",
       "[124 rows x 8 columns]"
      ]
     },
     "execution_count": 3,
     "metadata": {},
     "output_type": "execute_result"
    }
   ],
   "source": [
    "def param_data(data):\n",
    "    \"\"\"dataset required parameters \"\"\"\n",
    "    param = pd.DataFrame({\n",
    "              'dtypes': data.dtypes.values,\n",
    "              'nunique': data.nunique().values,\n",
    "              'isna': data.isna().sum().values,\n",
    "              'loc[0]': data.loc[0].values,\n",
    "              }, \n",
    "             index = data.loc[0].index)\n",
    "    return param\n",
    "\n",
    "pd.concat([param_data(train), param_data(test)], \n",
    "          axis=1, \n",
    "          keys = [f'↓ ОБУЧАЮЩАЯ ВЫБОРКА ↓ {train.shape}', f'↓ ТЕСТОВАЯ ВЫБОРКА ↓ {test.shape}'],  \n",
    "          sort=False)"
   ]
  },
  {
   "cell_type": "code",
   "execution_count": 4,
   "id": "a0e5928f",
   "metadata": {},
   "outputs": [],
   "source": [
    "# def viz_na(data):\n",
    "#     \"\"\"NA visualisation\"\"\"\n",
    "#     global cols\n",
    "#     cols = data.columns # запишем названия строки сделаем переменную глобальной\n",
    "#     # определяем цвета \n",
    "#     # желтый - пропущенные данные, синий - не пропущенные\n",
    "#     colours = ['#30d5c8', '#960018'] \n",
    "#     sns.heatmap(data[cols].isnull(), cmap=sns.color_palette(colours))\n",
    "#     plt.show()\n",
    "\n",
    "\n",
    "# viz_na(train)\n",
    "# viz_na(test)"
   ]
  },
  {
   "cell_type": "code",
   "execution_count": 5,
   "id": "d2c817d8",
   "metadata": {},
   "outputs": [],
   "source": [
    "# def stat_na_per_percent(data):\n",
    "#     print(f'{data.shape}')\n",
    "#     for col in data.columns:\n",
    "#         pct_missing = np.mean(data[col].isnull())\n",
    "#         print('{} - {}%'.format(col, round(pct_missing*100)))\n",
    "#     print(\"END\", end = '\\n\\n')\n",
    "# stat_na_per_percent(train)\n",
    "# stat_na_per_percent(test)"
   ]
  },
  {
   "cell_type": "code",
   "execution_count": 6,
   "id": "087ef71f",
   "metadata": {},
   "outputs": [],
   "source": [
    "# train.isna().sum().plot.bar();"
   ]
  },
  {
   "cell_type": "code",
   "execution_count": 7,
   "id": "df8f046b",
   "metadata": {},
   "outputs": [],
   "source": [
    "# sns.countplot(x=train['TARGET']);"
   ]
  },
  {
   "cell_type": "code",
   "execution_count": 8,
   "id": "19f31be1",
   "metadata": {},
   "outputs": [],
   "source": [
    "# sns.heatmap(train.corr(), mask=np.triu(np.ones_like(train.corr(), dtype=np.bool)));"
   ]
  },
  {
   "cell_type": "code",
   "execution_count": 9,
   "id": "a38c4336",
   "metadata": {},
   "outputs": [],
   "source": [
    "train['sample'] = 1 # помечаем где у нас трейн\n",
    "test['sample'] = 0 # помечаем где у нас тест\n",
    "test['TARGET'] = 0 # в тесте у нас нет значения Rating, мы его должны предсказать, по этому пока просто заполняем нулями\n",
    "\n",
    "data = train.append(test, sort=False).reset_index(drop=True) # объединяем\n",
    "\n",
    "data.drop(['id_contract'], axis=1, inplace=True)"
   ]
  },
  {
   "cell_type": "code",
   "execution_count": 10,
   "id": "35425e24",
   "metadata": {},
   "outputs": [],
   "source": [
    "for i in data:\n",
    "    if np.mean(data[i].isna()) >= 0.4:\n",
    "        data.drop([i], axis=1, inplace=True)"
   ]
  },
  {
   "cell_type": "code",
   "execution_count": 12,
   "id": "ee540e18",
   "metadata": {},
   "outputs": [],
   "source": [
    "# viz_na(data)"
   ]
  },
  {
   "cell_type": "code",
   "execution_count": 13,
   "id": "510b2875",
   "metadata": {},
   "outputs": [
    {
     "data": {
      "text/plain": [
       "id_client                  int64\n",
       "SIGN_DATE                 object\n",
       "IP_flag                    int64\n",
       "TARGET                     int64\n",
       "F1200                    float64\n",
       "F1230                    float64\n",
       "F1250                    float64\n",
       "F1300                    float64\n",
       "F1500                    float64\n",
       "F1520                    float64\n",
       "F1600                    float64\n",
       "F1700                    float64\n",
       "F2110                    float64\n",
       "F2120                    float64\n",
       "F2200                    float64\n",
       "F2300                    float64\n",
       "F2400                    float64\n",
       "EGRPOINCLUDED            float64\n",
       "DATEFIRSTREG              object\n",
       "OKFS_GROUP                object\n",
       "OKOPF_GROUP               object\n",
       "OKOGU_GROUP               object\n",
       "OKATO_REGIONCODE         float64\n",
       "OKATO_FED                float64\n",
       "OKTMO_CODE               float64\n",
       "OKTMO_FED                float64\n",
       "WORKERSRANGE              object\n",
       "TAXREG_REGDATE            object\n",
       "TAXREGPAY_REGDATE         object\n",
       "COUNTCOOWNERFCSM         float64\n",
       "COUNTCOOWNERROSSTAT      float64\n",
       "COUNTCOOWNEREGRUL        float64\n",
       "COUNTBRANCH              float64\n",
       "COUNTBRANCHROSSTAT       float64\n",
       "COUNTBRANCHEGRUL         float64\n",
       "TELEPHONECOUNT           float64\n",
       "MANAGERCOUNTINCOUNTRY    float64\n",
       "MANAGERCOUNTINREGION     float64\n",
       "MANAGERINNCOUNT          float64\n",
       "OKVED_CODE                object\n",
       "sample                     int64\n",
       "dtype: object"
      ]
     },
     "execution_count": 13,
     "metadata": {},
     "output_type": "execute_result"
    }
   ],
   "source": [
    "data.dtypes"
   ]
  },
  {
   "cell_type": "code",
   "execution_count": 14,
   "id": "831a4bde",
   "metadata": {},
   "outputs": [],
   "source": [
    "data['SIGN_DATE'] = pd.to_datetime(data['SIGN_DATE'], format = '%d%b%Y:%H:%M:%S').values.astype(np.int64) // 10 ** 9"
   ]
  },
  {
   "cell_type": "code",
   "execution_count": 15,
   "id": "03248e5e",
   "metadata": {},
   "outputs": [],
   "source": [
    "data['DATEFIRSTREG'] = pd.to_datetime(data['DATEFIRSTREG'], format = '%d%b%Y:%H:%M:%S').values.astype(np.int64) // 10 ** 9\n",
    "data['DATEFIRSTREG'] = data['DATEFIRSTREG'].apply(lambda x: 0 if x <=0 else x)"
   ]
  },
  {
   "cell_type": "code",
   "execution_count": null,
   "id": "aab45541",
   "metadata": {},
   "outputs": [],
   "source": []
  },
  {
   "cell_type": "code",
   "execution_count": 16,
   "id": "ba6f893f",
   "metadata": {},
   "outputs": [
    {
     "data": {
      "text/plain": [
       "5283"
      ]
     },
     "execution_count": 16,
     "metadata": {},
     "output_type": "execute_result"
    }
   ],
   "source": [
    "data['OKFS_GROUP'].isna().sum()"
   ]
  },
  {
   "cell_type": "code",
   "execution_count": 17,
   "id": "13f6cfe1",
   "metadata": {},
   "outputs": [],
   "source": [
    "dict_OKFS_GROUP = {'Частная собственность':0,\n",
    "                   'Государственная собственность': 1,\n",
    "                   'Иностранная собственность':2, \n",
    "                   'Смешенная российская собственность':3,\n",
    "                   'Совместная российская и иностранная собственность': 4}\n",
    "data['OKFS_GROUP'] = data['OKFS_GROUP'].map(dict_OKFS_GROUP).fillna(0)"
   ]
  },
  {
   "cell_type": "code",
   "execution_count": 18,
   "id": "6af9e54a",
   "metadata": {},
   "outputs": [
    {
     "data": {
      "text/plain": [
       "Группировки хозяйствующих субъектов и общественных объединений    19259\n",
       "Государственная власть в субъектах РФ                               402\n",
       "Государственная власть в РФ                                         261\n",
       "Местное самоуправление в РФ                                          13\n",
       "Name: OKOGU_GROUP, dtype: int64"
      ]
     },
     "execution_count": 18,
     "metadata": {},
     "output_type": "execute_result"
    }
   ],
   "source": [
    "data['OKOGU_GROUP'].value_counts()"
   ]
  },
  {
   "cell_type": "code",
   "execution_count": 19,
   "id": "685a3c3a",
   "metadata": {},
   "outputs": [
    {
     "data": {
      "text/plain": [
       "5286"
      ]
     },
     "execution_count": 19,
     "metadata": {},
     "output_type": "execute_result"
    }
   ],
   "source": [
    "data['OKOGU_GROUP'].isna().sum()"
   ]
  },
  {
   "cell_type": "code",
   "execution_count": 20,
   "id": "3116d199",
   "metadata": {},
   "outputs": [],
   "source": [
    "dict_OKOGU_GROUP = {'Группировки хозяйствующих субъектов и общественных объединений':0,\n",
    "                   'Государственная власть в субъектах РФ': 1,\n",
    "                   'Государственная власть в РФ':2, \n",
    "                   'Местное самоуправление в РФ':3}\n",
    "data['OKOGU_GROUP'] = data['OKOGU_GROUP'].map(dict_OKOGU_GROUP).fillna(0)"
   ]
  },
  {
   "cell_type": "code",
   "execution_count": 21,
   "id": "7598bd23",
   "metadata": {},
   "outputs": [
    {
     "data": {
      "text/plain": [
       "0 .. 5          8809\n",
       "16 .. 50        2894\n",
       "6 .. 10         2498\n",
       "51 .. 100       1086\n",
       "11 .. 15         960\n",
       "501 .. 1000      708\n",
       "1001 .. 5000     699\n",
       "251 .. 500       640\n",
       "101 .. 150       377\n",
       "151 .. 200       269\n",
       "201 .. 250       206\n",
       "5000 и более     184\n",
       "Name: WORKERSRANGE, dtype: int64"
      ]
     },
     "execution_count": 21,
     "metadata": {},
     "output_type": "execute_result"
    }
   ],
   "source": [
    "data['WORKERSRANGE'].value_counts()"
   ]
  },
  {
   "cell_type": "code",
   "execution_count": 22,
   "id": "814e498d",
   "metadata": {},
   "outputs": [],
   "source": [
    "dict_WORKERSRANGE = {'0 .. 5': 0,\n",
    "                     '16 .. 50': 1,\n",
    "                     '6 .. 10': 2, \n",
    "                     '51 .. 100': 3,\n",
    "                     '11 .. 15': 4,\n",
    "                     '501 .. 1000': 5,\n",
    "                     '251 .. 500': 6, \n",
    "                     '101 .. 150': 7,\n",
    "                     '151 .. 200': 8,\n",
    "                     '201 .. 250': 9,\n",
    "                     '251 .. 500': 10, \n",
    "                     '5000 и более': 11}\n",
    "                    \n",
    "                    \n",
    "                    \n",
    "data['WORKERSRANGE'] = data['WORKERSRANGE'].map(dict_WORKERSRANGE).fillna(0)"
   ]
  },
  {
   "cell_type": "code",
   "execution_count": 23,
   "id": "e49ab6a7",
   "metadata": {},
   "outputs": [],
   "source": [
    "data['TAXREG_REGDATE'] = pd.to_datetime(data['TAXREG_REGDATE'], format = '%d%b%Y:%H:%M:%S').values.astype(np.int64) // 10 ** 9\n",
    "data['TAXREG_REGDATE'] = data['TAXREG_REGDATE'].apply(lambda x: 0 if x <=0 else x)"
   ]
  },
  {
   "cell_type": "code",
   "execution_count": 24,
   "id": "b6a229cb",
   "metadata": {},
   "outputs": [],
   "source": [
    "data['TAXREGPAY_REGDATE'] = pd.to_datetime(data['TAXREGPAY_REGDATE'], format = '%d%b%Y:%H:%M:%S').values.astype(np.int64) // 10 ** 9\n",
    "data['TAXREGPAY_REGDATE'] = data['TAXREGPAY_REGDATE'].apply(lambda x: 0 if x <=0 else x)"
   ]
  },
  {
   "cell_type": "code",
   "execution_count": 25,
   "id": "617a43c5",
   "metadata": {},
   "outputs": [
    {
     "data": {
      "text/plain": [
       "46.46      2692\n",
       "41.20       993\n",
       "46.46.1     779\n",
       "46.90       610\n",
       "46.31       574\n",
       "           ... \n",
       "84.11.4       1\n",
       "52.23.1       1\n",
       "52.10.3       1\n",
       "01.49.4       1\n",
       "47.53         1\n",
       "Name: OKVED_CODE, Length: 879, dtype: int64"
      ]
     },
     "execution_count": 25,
     "metadata": {},
     "output_type": "execute_result"
    }
   ],
   "source": [
    "data['OKVED_CODE'].value_counts()"
   ]
  },
  {
   "cell_type": "code",
   "execution_count": 26,
   "id": "b00d68f0",
   "metadata": {},
   "outputs": [],
   "source": [
    "labelencoder = LabelEncoder()\n",
    "data['OKVED_CODE'] = labelencoder.fit_transform(data['OKVED_CODE'])"
   ]
  },
  {
   "cell_type": "code",
   "execution_count": 27,
   "id": "5daf0a80",
   "metadata": {},
   "outputs": [
    {
     "data": {
      "text/plain": [
       "Коммерческая корпоративная организация      18350\n",
       "Коммерческая унитарная организация            739\n",
       "Некоммерческая унитарная организация          585\n",
       "Некоммерческая корпоративная организация      133\n",
       "Без прав юридического лица                    131\n",
       "Name: OKOPF_GROUP, dtype: int64"
      ]
     },
     "execution_count": 27,
     "metadata": {},
     "output_type": "execute_result"
    }
   ],
   "source": [
    "data['OKOPF_GROUP'].value_counts()"
   ]
  },
  {
   "cell_type": "code",
   "execution_count": 28,
   "id": "9174abb8",
   "metadata": {},
   "outputs": [
    {
     "data": {
      "text/plain": [
       "5283"
      ]
     },
     "execution_count": 28,
     "metadata": {},
     "output_type": "execute_result"
    }
   ],
   "source": [
    "data['OKOPF_GROUP'].isna().sum()"
   ]
  },
  {
   "cell_type": "code",
   "execution_count": 29,
   "id": "51c6cf6f",
   "metadata": {},
   "outputs": [],
   "source": [
    "dict_OKOPF_GROUP = {'Коммерческая корпоративная организация':0,\n",
    "                   'Коммерческая унитарная организация': 1,\n",
    "                   'Некоммерческая унитарная организация':2, \n",
    "                   'Некоммерческая корпоративная организация':3,\n",
    "                   'Без прав юридического лица': 4}\n",
    "data['OKOPF_GROUP'] = data['OKOPF_GROUP'].map(dict_OKOPF_GROUP).fillna(0)"
   ]
  },
  {
   "cell_type": "code",
   "execution_count": 30,
   "id": "b18309e0",
   "metadata": {},
   "outputs": [
    {
     "data": {
      "text/plain": [
       "id_client                  int64\n",
       "SIGN_DATE                  int64\n",
       "IP_flag                    int64\n",
       "TARGET                     int64\n",
       "F1200                    float64\n",
       "F1230                    float64\n",
       "F1250                    float64\n",
       "F1300                    float64\n",
       "F1500                    float64\n",
       "F1520                    float64\n",
       "F1600                    float64\n",
       "F1700                    float64\n",
       "F2110                    float64\n",
       "F2120                    float64\n",
       "F2200                    float64\n",
       "F2300                    float64\n",
       "F2400                    float64\n",
       "EGRPOINCLUDED            float64\n",
       "DATEFIRSTREG               int64\n",
       "OKFS_GROUP               float64\n",
       "OKOPF_GROUP              float64\n",
       "OKOGU_GROUP              float64\n",
       "OKATO_REGIONCODE         float64\n",
       "OKATO_FED                float64\n",
       "OKTMO_CODE               float64\n",
       "OKTMO_FED                float64\n",
       "WORKERSRANGE             float64\n",
       "TAXREG_REGDATE             int64\n",
       "TAXREGPAY_REGDATE          int64\n",
       "COUNTCOOWNERFCSM         float64\n",
       "COUNTCOOWNERROSSTAT      float64\n",
       "COUNTCOOWNEREGRUL        float64\n",
       "COUNTBRANCH              float64\n",
       "COUNTBRANCHROSSTAT       float64\n",
       "COUNTBRANCHEGRUL         float64\n",
       "TELEPHONECOUNT           float64\n",
       "MANAGERCOUNTINCOUNTRY    float64\n",
       "MANAGERCOUNTINREGION     float64\n",
       "MANAGERINNCOUNT          float64\n",
       "OKVED_CODE                 int64\n",
       "sample                     int64\n",
       "dtype: object"
      ]
     },
     "execution_count": 30,
     "metadata": {},
     "output_type": "execute_result"
    }
   ],
   "source": [
    "data.dtypes"
   ]
  },
  {
   "cell_type": "code",
   "execution_count": 32,
   "id": "43d5a215",
   "metadata": {},
   "outputs": [],
   "source": [
    "# viz_na(data)"
   ]
  },
  {
   "cell_type": "code",
   "execution_count": 33,
   "id": "d106abb0",
   "metadata": {},
   "outputs": [],
   "source": [
    "imputer = KNNImputer(n_neighbors=3)\n",
    "Y = data['TARGET']\n",
    "sample = data['sample']\n",
    "data.drop(['TARGET', 'sample'], axis = 1, inplace = True)\n",
    "data = pd.DataFrame(imputer.fit_transform(data), columns = data.columns)\n",
    "data['TARGET'] = Y.values\n",
    "data['sample'] = sample.values"
   ]
  },
  {
   "cell_type": "code",
   "execution_count": null,
   "id": "bfcf0fce",
   "metadata": {},
   "outputs": [],
   "source": []
  },
  {
   "cell_type": "code",
   "execution_count": 34,
   "id": "8447d0b1",
   "metadata": {},
   "outputs": [],
   "source": [
    "data.to_csv('data_prepared_to_AI_2', index=False)"
   ]
  },
  {
   "cell_type": "code",
   "execution_count": 377,
   "id": "027fac7e",
   "metadata": {},
   "outputs": [
    {
     "data": {
      "text/plain": [
       "0"
      ]
     },
     "execution_count": 377,
     "metadata": {},
     "output_type": "execute_result"
    }
   ],
   "source": [
    "data.isna().sum().sum()"
   ]
  },
  {
   "cell_type": "code",
   "execution_count": 378,
   "id": "3b64d6b8",
   "metadata": {},
   "outputs": [
    {
     "data": {
      "text/html": [
       "<div>\n",
       "<style scoped>\n",
       "    .dataframe tbody tr th:only-of-type {\n",
       "        vertical-align: middle;\n",
       "    }\n",
       "\n",
       "    .dataframe tbody tr th {\n",
       "        vertical-align: top;\n",
       "    }\n",
       "\n",
       "    .dataframe thead th {\n",
       "        text-align: right;\n",
       "    }\n",
       "</style>\n",
       "<table border=\"1\" class=\"dataframe\">\n",
       "  <thead>\n",
       "    <tr style=\"text-align: right;\">\n",
       "      <th></th>\n",
       "      <th>id_client</th>\n",
       "      <th>SIGN_DATE</th>\n",
       "      <th>IP_flag</th>\n",
       "      <th>TARGET</th>\n",
       "      <th>DATEFIRSTREG</th>\n",
       "      <th>OKATO_REGIONCODE</th>\n",
       "      <th>OKATO_FED</th>\n",
       "      <th>OKTMO_CODE</th>\n",
       "      <th>OKTMO_FED</th>\n",
       "      <th>TAXREG_REGDATE</th>\n",
       "      <th>TAXREGPAY_REGDATE</th>\n",
       "      <th>OKVED_CODE</th>\n",
       "      <th>sample</th>\n",
       "    </tr>\n",
       "  </thead>\n",
       "  <tbody>\n",
       "    <tr>\n",
       "      <th>0</th>\n",
       "      <td>1847</td>\n",
       "      <td>1514764800</td>\n",
       "      <td>0</td>\n",
       "      <td>0</td>\n",
       "      <td>744940800</td>\n",
       "      <td>3.0</td>\n",
       "      <td>40.0</td>\n",
       "      <td>3.701000e+09</td>\n",
       "      <td>40.0</td>\n",
       "      <td>1151712000</td>\n",
       "      <td>0</td>\n",
       "      <td>255</td>\n",
       "      <td>1</td>\n",
       "    </tr>\n",
       "    <tr>\n",
       "      <th>1</th>\n",
       "      <td>4650</td>\n",
       "      <td>1514764800</td>\n",
       "      <td>1</td>\n",
       "      <td>0</td>\n",
       "      <td>0</td>\n",
       "      <td>0.0</td>\n",
       "      <td>0.0</td>\n",
       "      <td>0.000000e+00</td>\n",
       "      <td>0.0</td>\n",
       "      <td>0</td>\n",
       "      <td>0</td>\n",
       "      <td>879</td>\n",
       "      <td>1</td>\n",
       "    </tr>\n",
       "    <tr>\n",
       "      <th>2</th>\n",
       "      <td>4770</td>\n",
       "      <td>1514764800</td>\n",
       "      <td>0</td>\n",
       "      <td>0</td>\n",
       "      <td>697161600</td>\n",
       "      <td>33.0</td>\n",
       "      <td>33.0</td>\n",
       "      <td>3.371000e+10</td>\n",
       "      <td>33.0</td>\n",
       "      <td>1030665600</td>\n",
       "      <td>0</td>\n",
       "      <td>274</td>\n",
       "      <td>1</td>\n",
       "    </tr>\n",
       "    <tr>\n",
       "      <th>3</th>\n",
       "      <td>12237</td>\n",
       "      <td>1514764800</td>\n",
       "      <td>0</td>\n",
       "      <td>0</td>\n",
       "      <td>1120176000</td>\n",
       "      <td>71.0</td>\n",
       "      <td>34.0</td>\n",
       "      <td>7.187600e+10</td>\n",
       "      <td>34.0</td>\n",
       "      <td>1120176000</td>\n",
       "      <td>0</td>\n",
       "      <td>255</td>\n",
       "      <td>1</td>\n",
       "    </tr>\n",
       "    <tr>\n",
       "      <th>4</th>\n",
       "      <td>9988</td>\n",
       "      <td>1514764800</td>\n",
       "      <td>1</td>\n",
       "      <td>0</td>\n",
       "      <td>0</td>\n",
       "      <td>0.0</td>\n",
       "      <td>0.0</td>\n",
       "      <td>0.000000e+00</td>\n",
       "      <td>0.0</td>\n",
       "      <td>0</td>\n",
       "      <td>0</td>\n",
       "      <td>879</td>\n",
       "      <td>1</td>\n",
       "    </tr>\n",
       "    <tr>\n",
       "      <th>...</th>\n",
       "      <td>...</td>\n",
       "      <td>...</td>\n",
       "      <td>...</td>\n",
       "      <td>...</td>\n",
       "      <td>...</td>\n",
       "      <td>...</td>\n",
       "      <td>...</td>\n",
       "      <td>...</td>\n",
       "      <td>...</td>\n",
       "      <td>...</td>\n",
       "      <td>...</td>\n",
       "      <td>...</td>\n",
       "      <td>...</td>\n",
       "    </tr>\n",
       "    <tr>\n",
       "      <th>25216</th>\n",
       "      <td>8128</td>\n",
       "      <td>1577664000</td>\n",
       "      <td>0</td>\n",
       "      <td>0</td>\n",
       "      <td>1509062400</td>\n",
       "      <td>63.0</td>\n",
       "      <td>33.0</td>\n",
       "      <td>6.370100e+10</td>\n",
       "      <td>33.0</td>\n",
       "      <td>1509062400</td>\n",
       "      <td>0</td>\n",
       "      <td>755</td>\n",
       "      <td>0</td>\n",
       "    </tr>\n",
       "    <tr>\n",
       "      <th>25217</th>\n",
       "      <td>1132</td>\n",
       "      <td>1577664000</td>\n",
       "      <td>0</td>\n",
       "      <td>0</td>\n",
       "      <td>1233446400</td>\n",
       "      <td>92.0</td>\n",
       "      <td>33.0</td>\n",
       "      <td>9.260810e+10</td>\n",
       "      <td>33.0</td>\n",
       "      <td>1233446400</td>\n",
       "      <td>0</td>\n",
       "      <td>255</td>\n",
       "      <td>0</td>\n",
       "    </tr>\n",
       "    <tr>\n",
       "      <th>25218</th>\n",
       "      <td>4932</td>\n",
       "      <td>1577750400</td>\n",
       "      <td>0</td>\n",
       "      <td>0</td>\n",
       "      <td>1423094400</td>\n",
       "      <td>37.0</td>\n",
       "      <td>34.0</td>\n",
       "      <td>3.770100e+10</td>\n",
       "      <td>34.0</td>\n",
       "      <td>1423094400</td>\n",
       "      <td>0</td>\n",
       "      <td>309</td>\n",
       "      <td>0</td>\n",
       "    </tr>\n",
       "    <tr>\n",
       "      <th>25219</th>\n",
       "      <td>537</td>\n",
       "      <td>1577750400</td>\n",
       "      <td>0</td>\n",
       "      <td>0</td>\n",
       "      <td>1511222400</td>\n",
       "      <td>85.0</td>\n",
       "      <td>40.0</td>\n",
       "      <td>8.570100e+10</td>\n",
       "      <td>40.0</td>\n",
       "      <td>1511222400</td>\n",
       "      <td>0</td>\n",
       "      <td>364</td>\n",
       "      <td>0</td>\n",
       "    </tr>\n",
       "    <tr>\n",
       "      <th>25220</th>\n",
       "      <td>9916</td>\n",
       "      <td>1577750400</td>\n",
       "      <td>0</td>\n",
       "      <td>0</td>\n",
       "      <td>803606400</td>\n",
       "      <td>45.0</td>\n",
       "      <td>30.0</td>\n",
       "      <td>4.537600e+10</td>\n",
       "      <td>30.0</td>\n",
       "      <td>1043712000</td>\n",
       "      <td>0</td>\n",
       "      <td>844</td>\n",
       "      <td>0</td>\n",
       "    </tr>\n",
       "  </tbody>\n",
       "</table>\n",
       "<p>25221 rows × 13 columns</p>\n",
       "</div>"
      ],
      "text/plain": [
       "       id_client   SIGN_DATE  IP_flag  TARGET  DATEFIRSTREG  OKATO_REGIONCODE  \\\n",
       "0           1847  1514764800        0       0     744940800               3.0   \n",
       "1           4650  1514764800        1       0             0               0.0   \n",
       "2           4770  1514764800        0       0     697161600              33.0   \n",
       "3          12237  1514764800        0       0    1120176000              71.0   \n",
       "4           9988  1514764800        1       0             0               0.0   \n",
       "...          ...         ...      ...     ...           ...               ...   \n",
       "25216       8128  1577664000        0       0    1509062400              63.0   \n",
       "25217       1132  1577664000        0       0    1233446400              92.0   \n",
       "25218       4932  1577750400        0       0    1423094400              37.0   \n",
       "25219        537  1577750400        0       0    1511222400              85.0   \n",
       "25220       9916  1577750400        0       0     803606400              45.0   \n",
       "\n",
       "       OKATO_FED    OKTMO_CODE  OKTMO_FED  TAXREG_REGDATE  TAXREGPAY_REGDATE  \\\n",
       "0           40.0  3.701000e+09       40.0      1151712000                  0   \n",
       "1            0.0  0.000000e+00        0.0               0                  0   \n",
       "2           33.0  3.371000e+10       33.0      1030665600                  0   \n",
       "3           34.0  7.187600e+10       34.0      1120176000                  0   \n",
       "4            0.0  0.000000e+00        0.0               0                  0   \n",
       "...          ...           ...        ...             ...                ...   \n",
       "25216       33.0  6.370100e+10       33.0      1509062400                  0   \n",
       "25217       33.0  9.260810e+10       33.0      1233446400                  0   \n",
       "25218       34.0  3.770100e+10       34.0      1423094400                  0   \n",
       "25219       40.0  8.570100e+10       40.0      1511222400                  0   \n",
       "25220       30.0  4.537600e+10       30.0      1043712000                  0   \n",
       "\n",
       "       OKVED_CODE  sample  \n",
       "0             255       1  \n",
       "1             879       1  \n",
       "2             274       1  \n",
       "3             255       1  \n",
       "4             879       1  \n",
       "...           ...     ...  \n",
       "25216         755       0  \n",
       "25217         255       0  \n",
       "25218         309       0  \n",
       "25219         364       0  \n",
       "25220         844       0  \n",
       "\n",
       "[25221 rows x 13 columns]"
      ]
     },
     "execution_count": 378,
     "metadata": {},
     "output_type": "execute_result"
    }
   ],
   "source": [
    "data"
   ]
  },
  {
   "cell_type": "code",
   "execution_count": null,
   "id": "403543d0",
   "metadata": {},
   "outputs": [],
   "source": []
  },
  {
   "cell_type": "code",
   "execution_count": 6,
   "id": "94f3d00d",
   "metadata": {},
   "outputs": [],
   "source": [
    "# %%html\n",
    "# <style id=hide>div.input{display:none;}</style>\n",
    "# <button type=\"button\" \n",
    "# onclick=\"var myStyle = document.getElementById('hide').sheet;myStyle.insertRule('div.input{display:inherit !important;}', 0);\">\n",
    "# Show inputs</button>"
   ]
  },
  {
   "cell_type": "code",
   "execution_count": 7,
   "id": "94d76ea3",
   "metadata": {},
   "outputs": [],
   "source": [
    "#from hideBlock import hide_sloutionution"
   ]
  },
  {
   "cell_type": "code",
   "execution_count": null,
   "id": "71df53f1",
   "metadata": {},
   "outputs": [],
   "source": []
  }
 ],
 "metadata": {
  "kernelspec": {
   "display_name": "Python 3 (ipykernel)",
   "language": "python",
   "name": "python3"
  },
  "language_info": {
   "codemirror_mode": {
    "name": "ipython",
    "version": 3
   },
   "file_extension": ".py",
   "mimetype": "text/x-python",
   "name": "python",
   "nbconvert_exporter": "python",
   "pygments_lexer": "ipython3",
   "version": "3.8.8"
  }
 },
 "nbformat": 4,
 "nbformat_minor": 5
}
